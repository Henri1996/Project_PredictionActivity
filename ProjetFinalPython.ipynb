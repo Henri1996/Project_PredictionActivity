{
 "cells": [
  {
   "cell_type": "markdown",
   "metadata": {},
   "source": [
    "# Projet final - Python - Henri de Montalembert"
   ]
  },
  {
   "cell_type": "code",
   "execution_count": 1,
   "metadata": {},
   "outputs": [],
   "source": [
    "import pickle\n",
    "import pandas as pd\n",
    "import matplotlib.pyplot as plt\n",
    "%matplotlib inline"
   ]
  },
  {
   "cell_type": "markdown",
   "metadata": {},
   "source": [
    "## Importation des données"
   ]
  },
  {
   "cell_type": "code",
   "execution_count": 2,
   "metadata": {},
   "outputs": [
    {
     "name": "stdout",
     "output_type": "stream",
     "text": [
      "1\n",
      "2\n",
      "3\n",
      "4\n",
      "5\n",
      "7\n",
      "8\n",
      "9\n",
      "10\n",
      "11\n",
      "12\n",
      "13\n",
      "14\n",
      "15\n"
     ]
    }
   ],
   "source": [
    "subjects = []\n",
    "for i in range(1,16):\n",
    "    if i != 6:\n",
    "        print(i)\n",
    "        name = \"S\"+str(i)+\".pkl\"\n",
    "        file = open(name, \"rb\")\n",
    "        subjects.append(pickle.load(file,encoding='latin1'))"
   ]
  },
  {
   "cell_type": "markdown",
   "metadata": {},
   "source": [
    "## Premiere visualisation des données sur le premier individu "
   ]
  },
  {
   "cell_type": "code",
   "execution_count": 93,
   "metadata": {},
   "outputs": [],
   "source": [
    "file = open( \"S1.pkl\", \"rb\")\n",
    "#file = open( \"/Users/henri/Desktop/S9/Python/Projet_final/PPG_FieldStudy/S7/S7.pkl\", \"rb\")\n",
    "datas= pickle.load(file,encoding='latin1')\n",
    "#pickle.dump(data, file)"
   ]
  },
  {
   "cell_type": "code",
   "execution_count": 4,
   "metadata": {},
   "outputs": [
    {
     "data": {
      "text/plain": [
       "{'WEIGHT': 78.0,\n",
       " 'Gender': ' m',\n",
       " 'AGE': 34,\n",
       " 'HEIGHT': 182.0,\n",
       " 'SKIN': 3,\n",
       " 'SPORT': 6}"
      ]
     },
     "execution_count": 4,
     "metadata": {},
     "output_type": "execute_result"
    }
   ],
   "source": [
    "datas[\"questionnaire\"]"
   ]
  },
  {
   "cell_type": "code",
   "execution_count": 5,
   "metadata": {},
   "outputs": [
    {
     "data": {
      "text/plain": [
       "['rpeaks', 'signal', 'label', 'activity', 'questionnaire', 'subject']"
      ]
     },
     "execution_count": 5,
     "metadata": {},
     "output_type": "execute_result"
    }
   ],
   "source": [
    "columns = []\n",
    "for data in datas:\n",
    "    columns.append(data)\n",
    "columns"
   ]
  },
  {
   "cell_type": "code",
   "execution_count": 3,
   "metadata": {},
   "outputs": [
    {
     "data": {
      "text/plain": [
       "4603"
      ]
     },
     "execution_count": 3,
     "metadata": {},
     "output_type": "execute_result"
    }
   ],
   "source": [
    "len(subjects[0][\"label\"])"
   ]
  },
  {
   "cell_type": "code",
   "execution_count": 4,
   "metadata": {},
   "outputs": [
    {
     "data": {
      "text/plain": [
       "36848"
      ]
     },
     "execution_count": 4,
     "metadata": {},
     "output_type": "execute_result"
    }
   ],
   "source": [
    "len(subjects[0][\"activity\"])"
   ]
  },
  {
   "cell_type": "code",
   "execution_count": 6,
   "metadata": {},
   "outputs": [
    {
     "data": {
      "text/plain": [
       "36824"
      ]
     },
     "execution_count": 6,
     "metadata": {},
     "output_type": "execute_result"
    }
   ],
   "source": [
    "4603*8"
   ]
  },
  {
   "cell_type": "code",
   "execution_count": 11,
   "metadata": {},
   "outputs": [
    {
     "data": {
      "text/plain": [
       "6448400"
      ]
     },
     "execution_count": 11,
     "metadata": {},
     "output_type": "execute_result"
    }
   ],
   "source": [
    "len(datas[\"signal\"][\"chest\"][\"ACC\"])"
   ]
  },
  {
   "cell_type": "code",
   "execution_count": 14,
   "metadata": {},
   "outputs": [
    {
     "data": {
      "text/plain": [
       "6448400"
      ]
     },
     "execution_count": 14,
     "metadata": {},
     "output_type": "execute_result"
    }
   ],
   "source": [
    "len(datas[\"signal\"][\"chest\"][\"EMG\"])"
   ]
  },
  {
   "cell_type": "code",
   "execution_count": 34,
   "metadata": {},
   "outputs": [
    {
     "data": {
      "text/plain": [
       "array([[0.],\n",
       "       [0.],\n",
       "       [0.],\n",
       "       ...,\n",
       "       [0.],\n",
       "       [0.],\n",
       "       [0.]])"
      ]
     },
     "execution_count": 34,
     "metadata": {},
     "output_type": "execute_result"
    }
   ],
   "source": [
    "datas[\"signal\"][\"chest\"][\"EDA\"]"
   ]
  },
  {
   "cell_type": "code",
   "execution_count": 6,
   "metadata": {},
   "outputs": [
    {
     "name": "stdout",
     "output_type": "stream",
     "text": [
      "Chest\n",
      "ACC : 6448400\n",
      "ECG : 6448400\n",
      "EMG : 6448400\n",
      "EDA : 6448400\n",
      "Temp : 6448400\n",
      "Resp : 6448400\n",
      "\n",
      "Wrist : \n",
      "ACC : 294784\n",
      "BVP : 589568\n",
      "EDA : 36848\n",
      "TEMP : 36848\n"
     ]
    }
   ],
   "source": [
    "print(\"Chest\")\n",
    "for index , valeur in enumerate(datas[\"signal\"][\"chest\"]):\n",
    "    print(valeur + \" : \"+ str(len(datas[\"signal\"][\"chest\"][valeur])))\n",
    "print(\"\")\n",
    "print(\"Wrist : \")\n",
    "for index , valeur in enumerate(datas[\"signal\"][\"wrist\"]):\n",
    "    print(valeur + \" : \"+ str(len(datas[\"signal\"][\"wrist\"][valeur])))"
   ]
  },
  {
   "cell_type": "code",
   "execution_count": 133,
   "metadata": {},
   "outputs": [
    {
     "name": "stdout",
     "output_type": "stream",
     "text": [
      "Activity :\n",
      "36848\n"
     ]
    }
   ],
   "source": [
    "print(\"Activity :\")\n",
    "print(len(datas[\"activity\"]))\n",
    "#print(len(datas[\"activity\"][datas[\"activity\"] != 0]))"
   ]
  },
  {
   "cell_type": "code",
   "execution_count": 84,
   "metadata": {},
   "outputs": [
    {
     "data": {
      "text/plain": [
       "<matplotlib.axes._subplots.AxesSubplot at 0x127584210>"
      ]
     },
     "execution_count": 84,
     "metadata": {},
     "output_type": "execute_result"
    },
    {
     "data": {
      "image/png": "[encoded data removed]",
      "text/plain": [
       "<Figure size 432x288 with 1 Axes>"
      ]
     },
     "metadata": {
      "needs_background": "light"
     },
     "output_type": "display_data"
    }
   ],
   "source": [
    "import numpy as np\n",
    "unique, counts = np.unique(datas[\"activity\"], return_counts=True)\n",
    "pd.DataFrame.from_dict(dict(zip(unique, counts)),orient='index').plot(kind=\"bar\")"
   ]
  },
  {
   "cell_type": "code",
   "execution_count": 75,
   "metadata": {},
   "outputs": [
    {
     "data": {
      "text/plain": [
       "{0.0: 9124,\n",
       " 1.0: 2800,\n",
       " 2.0: 1148,\n",
       " 3.0: 1380,\n",
       " 4.0: 1648,\n",
       " 5.0: 3556,\n",
       " 6.0: 9420,\n",
       " 7.0: 3016,\n",
       " 8.0: 4756}"
      ]
     },
     "execution_count": 75,
     "metadata": {},
     "output_type": "execute_result"
    }
   ],
   "source": [
    "dict(zip(unique, counts))"
   ]
  },
  {
   "cell_type": "code",
   "execution_count": null,
   "metadata": {},
   "outputs": [],
   "source": [
    "#Le subject 1 a réalisé toutes les activités"
   ]
  },
  {
   "cell_type": "code",
   "execution_count": 65,
   "metadata": {},
   "outputs": [
    {
     "data": {
      "text/plain": [
       "numpy.ndarray"
      ]
     },
     "execution_count": 65,
     "metadata": {},
     "output_type": "execute_result"
    }
   ],
   "source": [
    "type(datas[\"activity\"])"
   ]
  },
  {
   "cell_type": "code",
   "execution_count": 33,
   "metadata": {},
   "outputs": [],
   "source": [
    "activitiesS1 = pd.DataFrame(datas[\"activity\"]).reset_index()"
   ]
  },
  {
   "cell_type": "code",
   "execution_count": 128,
   "metadata": {},
   "outputs": [
    {
     "data": {
      "text/plain": [
       "<matplotlib.axes._subplots.AxesSubplot at 0x12a2ba2d0>"
      ]
     },
     "execution_count": 128,
     "metadata": {},
     "output_type": "execute_result"
    },
    {
     "data": {
      "image/png": "[encoded data removed]",
      "text/plain": [
       "<Figure size 432x288 with 1 Axes>"
      ]
     },
     "metadata": {
      "needs_background": "light"
     },
     "output_type": "display_data"
    }
   ],
   "source": [
    "activitiesS1.plot.scatter(x='index',y=0,title =\"henir\")"
   ]
  },
  {
   "cell_type": "code",
   "execution_count": 133,
   "metadata": {},
   "outputs": [
    {
     "data": {
      "text/plain": [
       "<matplotlib.axes._subplots.AxesSubplot at 0x119eccf10>"
      ]
     },
     "execution_count": 133,
     "metadata": {},
     "output_type": "execute_result"
    },
    {
     "data": {
      "image/png": "[encoded data removed]",
      "text/plain": [
       "<Figure size 432x288 with 1 Axes>"
      ]
     },
     "metadata": {
      "needs_background": "light"
     },
     "output_type": "display_data"
    }
   ],
   "source": [
    "activitiesS1.plot(x='index',y=0,kind='line')"
   ]
  },
  {
   "cell_type": "code",
   "execution_count": 34,
   "metadata": {},
   "outputs": [
    {
     "data": {
      "text/plain": [
       "Text(0, 0.5, 'Activity')"
      ]
     },
     "execution_count": 34,
     "metadata": {},
     "output_type": "execute_result"
    },
    {
     "data": {
      "image/png": "[encoded data removed]",
      "text/plain": [
       "<Figure size 432x288 with 1 Axes>"
      ]
     },
     "metadata": {
      "needs_background": "light"
     },
     "output_type": "display_data"
    }
   ],
   "source": [
    "import matplotlib.pyplot as plt\n",
    "fig, ax = plt.subplots()\n",
    "\n",
    "# scatter the sepal_length against the sepal_width\n",
    "ax.scatter( activitiesS1[\"index\"],activitiesS1[0])\n",
    "# set a title and labels\n",
    "ax.set_title('Activities')\n",
    "ax.set_xlabel('Time in s')\n",
    "ax.set_ylabel('Activity')"
   ]
  },
  {
   "cell_type": "code",
   "execution_count": 135,
   "metadata": {
    "scrolled": true
   },
   "outputs": [
    {
     "data": {
      "text/plain": [
       "array([[ 1.56097412],\n",
       "       [ 1.81274414],\n",
       "       [ 1.75323486],\n",
       "       ...,\n",
       "       [21.3684082 ],\n",
       "       [21.55609131],\n",
       "       [21.70257568]])"
      ]
     },
     "execution_count": 135,
     "metadata": {},
     "output_type": "execute_result"
    }
   ],
   "source": [
    "datas[\"signal\"][\"chest\"][\"ECG\"]*100"
   ]
  },
  {
   "cell_type": "code",
   "execution_count": 143,
   "metadata": {},
   "outputs": [
    {
     "data": {
      "text/plain": [
       "150.15457212632637"
      ]
     },
     "execution_count": 143,
     "metadata": {},
     "output_type": "execute_result"
    }
   ],
   "source": [
    "print(datas[\"label\"].min())\n",
    "print(datas[\"label\"].max()"
   ]
  },
  {
   "cell_type": "code",
   "execution_count": 97,
   "metadata": {},
   "outputs": [
    {
     "data": {
      "text/plain": [
       "<matplotlib.axes._subplots.AxesSubplot at 0x12a55ac50>"
      ]
     },
     "execution_count": 97,
     "metadata": {},
     "output_type": "execute_result"
    },
    {
     "data": {
      "image/png": "[encoded data removed]",
      "text/plain": [
       "<Figure size 432x288 with 1 Axes>"
      ]
     },
     "metadata": {
      "needs_background": "light"
     },
     "output_type": "display_data"
    }
   ],
   "source": [
    "pd.DataFrame(datas[\"signal\"][\"wrist\"][\"BVP\"]).plot()"
   ]
  },
  {
   "cell_type": "code",
   "execution_count": 98,
   "metadata": {},
   "outputs": [
    {
     "data": {
      "text/plain": [
       "<matplotlib.axes._subplots.AxesSubplot at 0x128e16d90>"
      ]
     },
     "execution_count": 98,
     "metadata": {},
     "output_type": "execute_result"
    },
    {
     "data": {
      "image/png": "[encoded data removed]",
      "text/plain": [
       "<Figure size 432x288 with 1 Axes>"
      ]
     },
     "metadata": {
      "needs_background": "light"
     },
     "output_type": "display_data"
    }
   ],
   "source": [
    "pd.DataFrame(datas[\"label\"]).plot()"
   ]
  },
  {
   "cell_type": "markdown",
   "metadata": {},
   "source": [
    "# Création de mes dataframe"
   ]
  },
  {
   "cell_type": "markdown",
   "metadata": {},
   "source": [
    "### Deux approches différentes :\n",
    "### La premiere utilise seulement la fréquence cardiaque (en les mettant à la mme echelle que le tableau d'activity ) et les carctéristiques des individus\n",
    "### La deuxième prend tous les signaux et les mets à la meme echelle que le tableau d'activité ainsi que les caractéristiques des individus\n"
   ]
  },
  {
   "cell_type": "markdown",
   "metadata": {},
   "source": [
    "### Creation de la dataframe 2 : la deuxieme approche :"
   ]
  },
  {
   "cell_type": "code",
   "execution_count": 3,
   "metadata": {},
   "outputs": [
    {
     "name": "stdout",
     "output_type": "stream",
     "text": [
      "175.0\n",
      "8.0\n",
      "16.0\n",
      "6448400\n",
      "S1\n",
      "2020-01-31 11:28:08.274179\n",
      "175.0\n",
      "8.0\n",
      "16.0\n",
      "5743500\n",
      "S2\n",
      "2020-01-31 11:29:39.333453\n",
      "175.0\n",
      "8.0\n",
      "16.0\n",
      "6118700\n",
      "S3\n",
      "2020-01-31 11:30:55.391321\n",
      "175.0\n",
      "8.0\n",
      "16.0\n",
      "6405000\n",
      "S4\n",
      "2020-01-31 11:32:14.549266\n",
      "175.0\n",
      "8.0\n",
      "16.0\n",
      "6513500\n",
      "S5\n",
      "2020-01-31 11:33:40.413829\n",
      "175.0\n",
      "8.0\n",
      "16.0\n",
      "6540100\n",
      "S7\n",
      "2020-01-31 11:35:09.474987\n",
      "175.0\n",
      "8.0\n",
      "16.0\n",
      "5656000\n",
      "S8\n",
      "2020-01-31 11:36:37.267538\n",
      "175.0\n",
      "8.0\n",
      "16.0\n",
      "5992000\n",
      "S9\n",
      "2020-01-31 11:37:48.854482\n",
      "175.0\n",
      "8.0\n",
      "16.0\n",
      "7453600\n",
      "S10\n",
      "2020-01-31 11:39:05.690006\n",
      "175.0\n",
      "8.0\n",
      "16.0\n",
      "6333600\n",
      "S11\n",
      "2020-01-31 11:40:40.622569\n",
      "175.0\n",
      "8.0\n",
      "16.0\n",
      "5539800\n",
      "S12\n",
      "2020-01-31 11:42:01.594687\n",
      "175.0\n",
      "8.0\n",
      "16.0\n",
      "6395200\n",
      "S13\n",
      "2020-01-31 11:43:12.103948\n",
      "175.0\n",
      "8.0\n",
      "16.0\n",
      "6270600\n",
      "S14\n",
      "2020-01-31 11:44:33.269348\n",
      "175.0\n",
      "8.0\n",
      "16.0\n",
      "5557300\n",
      "S15\n",
      "2020-01-31 11:45:52.187008\n"
     ]
    }
   ],
   "source": [
    "import datetime\n",
    "from statistics import mean\n",
    "ACC_chest_0 = []\n",
    "ACC_chest_1 = []\n",
    "ACC_chest_2 = []\n",
    "\n",
    "ACC_wrist_0 = []\n",
    "ACC_wrist_1 = []\n",
    "ACC_wrist_2 = []\n",
    "ECG = []\n",
    "Resp = []\n",
    "BVP = []\n",
    "\n",
    "\n",
    "ACC_chest_temp_0 = []\n",
    "ACC_chest_temp_1 = []\n",
    "ACC_chest_temp_2 = []\n",
    "ACC_wrist_temp_0 = []\n",
    "ACC_wrist_temp_1 = []\n",
    "ACC_wrist_temp_2 = []\n",
    "BVP_temp = []\n",
    "ECG_temp = []\n",
    "Resp_temp = []\n",
    "Activities = []\n",
    "mondico = {}\n",
    "\n",
    "for sujet in subjects: \n",
    "    lenACC = len(sujet[\"signal\"][\"chest\"][\"ACC\"])\n",
    "    lenACC_wrist = len(sujet[\"signal\"][\"wrist\"][\"ACC\"])\n",
    "    lenBVP = len(sujet[\"signal\"][\"wrist\"][\"BVP\"])\n",
    "    lenActivity = len(sujet[\"activity\"])\n",
    "    diviseur = lenACC / lenActivity\n",
    "    diviseur2 = len(sujet[\"signal\"][\"wrist\"][\"ACC\"]) / lenActivity\n",
    "    diviseur3 = len(sujet[\"signal\"][\"wrist\"][\"BVP\"]) / lenActivity\n",
    "    print(diviseur)\n",
    "    print(diviseur2)\n",
    "    print(diviseur3)\n",
    "    print(lenACC)\n",
    "    print(sujet[\"subject\"])\n",
    "    print(datetime.datetime.now())\n",
    "    for valeur in range(lenACC):\n",
    "        ACC_chest_temp_0.append(sujet[\"signal\"][\"chest\"][\"ACC\"][valeur][0])\n",
    "        ACC_chest_temp_1.append(sujet[\"signal\"][\"chest\"][\"ACC\"][valeur][1])\n",
    "        ACC_chest_temp_2.append(sujet[\"signal\"][\"chest\"][\"ACC\"][valeur][2])\n",
    "        ECG_temp.append(float(sujet[\"signal\"][\"chest\"][\"ECG\"][valeur]))\n",
    "        Resp_temp.append(float(sujet[\"signal\"][\"chest\"][\"Resp\"][valeur]))\n",
    "        if valeur < lenACC_wrist:\n",
    "            ACC_wrist_temp_0.append(sujet[\"signal\"][\"wrist\"][\"ACC\"][valeur][0])\n",
    "            ACC_wrist_temp_1.append(sujet[\"signal\"][\"wrist\"][\"ACC\"][valeur][1])\n",
    "            ACC_wrist_temp_2.append(sujet[\"signal\"][\"wrist\"][\"ACC\"][valeur][2])\n",
    "        \n",
    "        if valeur < lenBVP:\n",
    "            BVP_temp.append(float(sujet[\"signal\"][\"wrist\"][\"BVP\"][valeur]))\n",
    "        \n",
    "        if valeur%diviseur == 0 and valeur !=0:\n",
    "            ACC_chest_0.append(mean(ACC_chest_temp_0))\n",
    "            ACC_chest_1.append(mean(ACC_chest_temp_1))\n",
    "            ACC_chest_2.append(mean(ACC_chest_temp_2))\n",
    "            ECG.append(mean(ECG_temp))\n",
    "            Resp.append(mean(Resp_temp))\n",
    "            ACC_chest_temp_0=[] \n",
    "            ACC_chest_temp_1=[] \n",
    "            ACC_chest_temp_2=[]\n",
    "            ECG_temp = []\n",
    "            Resp_temp = []\n",
    "            \n",
    "        if valeur%diviseur2 == 0 and valeur !=0 and valeur <lenACC_wrist:\n",
    "            ACC_wrist_0.append(mean(ACC_wrist_temp_0))\n",
    "            ACC_wrist_1.append(mean(ACC_wrist_temp_1))\n",
    "            ACC_wrist_2.append(mean(ACC_wrist_temp_2))\n",
    "            \n",
    "            ACC_wrist_temp_0 = []\n",
    "            ACC_wrist_temp_1 = []\n",
    "            ACC_wrist_temp_2 = []\n",
    "        \n",
    "        if valeur%diviseur3 == 0 and valeur !=0 and valeur < lenBVP:\n",
    "            BVP.append(mean(BVP_temp))\n",
    "            BVP_temp = []\n",
    "        \n",
    "            "
   ]
  },
  {
   "cell_type": "code",
   "execution_count": 308,
   "metadata": {},
   "outputs": [
    {
     "data": {
      "text/plain": [
       "(496942, 496942, 496942)"
      ]
     },
     "execution_count": 308,
     "metadata": {},
     "output_type": "execute_result"
    }
   ],
   "source": [
    "len(ACC_chest_0) , len(ACC_chest_1),len(ACC_chest_2)"
   ]
  },
  {
   "cell_type": "code",
   "execution_count": 309,
   "metadata": {},
   "outputs": [
    {
     "data": {
      "text/plain": [
       "(496942, 496942, 496942)"
      ]
     },
     "execution_count": 309,
     "metadata": {},
     "output_type": "execute_result"
    }
   ],
   "source": [
    "len(ACC_wrist_0),len(ACC_wrist_1),len(ACC_wrist_2)"
   ]
  },
  {
   "cell_type": "code",
   "execution_count": 310,
   "metadata": {},
   "outputs": [
    {
     "data": {
      "text/plain": [
       "(496942, 496942, 496942)"
      ]
     },
     "execution_count": 310,
     "metadata": {},
     "output_type": "execute_result"
    }
   ],
   "source": [
    "len(BVP) , len(ECG) , len(Resp)"
   ]
  },
  {
   "cell_type": "code",
   "execution_count": 318,
   "metadata": {},
   "outputs": [
    {
     "data": {
      "text/plain": [
       "(36848, 32820)"
      ]
     },
     "execution_count": 318,
     "metadata": {},
     "output_type": "execute_result"
    }
   ],
   "source": [
    "len(subjects[0][\"activity\"]) , len(subjects[1][\"activity\"])"
   ]
  },
  {
   "cell_type": "code",
   "execution_count": 28,
   "metadata": {},
   "outputs": [
    {
     "name": "stdout",
     "output_type": "stream",
     "text": [
      "0\n",
      "1\n",
      "2\n",
      "3\n",
      "4\n",
      "5\n",
      "6\n",
      "7\n",
      "8\n",
      "9\n",
      "10\n",
      "11\n",
      "12\n",
      "13\n"
     ]
    }
   ],
   "source": [
    "Activ = []\n",
    "Gender = []\n",
    "Age = []\n",
    "Height = []\n",
    "Skin = []\n",
    "Sport =[]\n",
    "Labels = [] \n",
    "compt=0\n",
    "nbpers = len(subjects)\n",
    "for i in range(nbpers):\n",
    "    taille = len(subjects[i][\"activity\"])-1\n",
    "    print(i)\n",
    "    Activ.extend(subjects[i][\"activity\"][:taille])\n",
    "    for v in range(taille):\n",
    "        Gender.append(subjects[i][\"questionnaire\"][\"Gender\"].strip())\n",
    "        Age.append(subjects[i][\"questionnaire\"][\"AGE\"])\n",
    "        Height.append(subjects[i][\"questionnaire\"][\"HEIGHT\"])\n",
    "        Skin.append(subjects[i][\"questionnaire\"][\"SKIN\"])\n",
    "        Sport.append(subjects[i][\"questionnaire\"][\"SPORT\"])\n",
    "        if v%8 == 0 and v !=0 :\n",
    "            compt+=1\n",
    "        if compt < len(subjects[i][\"label\"]):\n",
    "            #print(subjects[i][\"label\"][compt])\n",
    "            Labels.append(subjects[i][\"label\"][compt])\n",
    "        else: Labels.append(9)\n",
    "    compt=0"
   ]
  },
  {
   "cell_type": "code",
   "execution_count": 33,
   "metadata": {},
   "outputs": [],
   "source": [
    "df2 = pd.DataFrame(columns=[\"Gender\",\"Age\",\"Height\",\"Skin\",\"Sport\",\"ACC_chest_0\",\"ACC_chest_1\",\"ACC_chest_2\",\"ACC_wrist_0\",\"ACC_wrist_1\",\"ACC_wrist_2\",\"BVP\",\"ECG\",\"Resp\",\"Labels\",\"Activ\"])\n",
    "df2[\"Gender\"] = Gender\n",
    "df2[\"Age\"] = Age\n",
    "df2[\"Height\"]=Height\n",
    "df2[\"Skin\"] = Skin\n",
    "df2[\"Sport\"] = Sport\n",
    "df2[\"ACC_chest_0\"]= ACC_chest_0\n",
    "df2[\"ACC_chest_1\"]=ACC_chest_1\n",
    "df2[\"ACC_chest_2\"]=ACC_chest_2\n",
    "df2[\"ACC_wrist_0\"]=ACC_wrist_0\n",
    "df2[\"ACC_wrist_1\"]=ACC_wrist_1\n",
    "df2[\"ACC_wrist_2\"]=ACC_wrist_2\n",
    "df2[\"BVP\"]=BVP\n",
    "df2[\"ECG\"]=ECG\n",
    "df2[\"Resp\"]=Resp\n",
    "df2[\"Labels\"]=Labels\n",
    "df2[\"Activ\"]=Activ\n"
   ]
  },
  {
   "cell_type": "code",
   "execution_count": 35,
   "metadata": {},
   "outputs": [
    {
     "name": "stdout",
     "output_type": "stream",
     "text": [
      "342\n",
      "496600\n"
     ]
    }
   ],
   "source": [
    "print(len(df2[\"Labels\"][df2[\"Labels\"] == 9]))\n",
    "print(len(df2[\"Labels\"][df2[\"Labels\"] != 9]))"
   ]
  },
  {
   "cell_type": "code",
   "execution_count": null,
   "metadata": {},
   "outputs": [],
   "source": []
  },
  {
   "cell_type": "markdown",
   "metadata": {},
   "source": [
    "### Création de la dataframe 1 = premiere approche"
   ]
  },
  {
   "cell_type": "code",
   "execution_count": 54,
   "metadata": {
    "scrolled": false
   },
   "outputs": [
    {
     "name": "stdout",
     "output_type": "stream",
     "text": [
      "S1\n",
      "2020-01-27 00:15:26.433474\n",
      "S2\n",
      "2020-01-27 00:15:57.327126\n",
      "S3\n",
      "2020-01-27 00:16:34.981514\n",
      "S4\n",
      "2020-01-27 00:17:19.911095\n",
      "S5\n",
      "2020-01-27 00:18:28.484986\n",
      "S7\n",
      "2020-01-27 00:19:53.937078\n",
      "S8\n",
      "2020-01-27 00:21:23.229931\n",
      "S9\n",
      "2020-01-27 00:23:06.421649\n",
      "S10\n",
      "2020-01-27 00:24:55.632802\n",
      "S11\n",
      "2020-01-27 00:27:41.641457\n",
      "S12\n",
      "2020-01-27 00:30:14.127633\n",
      "S13\n",
      "2020-01-27 00:32:30.833722\n",
      "S14\n",
      "2020-01-27 00:35:14.982811\n",
      "S15\n",
      "2020-01-27 00:38:12.146077\n"
     ]
    }
   ],
   "source": [
    "\n",
    "import datetime\n",
    "df = pd.DataFrame(columns=['Gender','Age','Height','Skin','Sport','HearthRate', 'Activity'])\n",
    "compt = 0\n",
    "for sujet in subjects: \n",
    "    print(sujet[\"subject\"])\n",
    "    print(datetime.datetime.now())\n",
    "    for valeur in range(len(sujet[\"label\"])):\n",
    "        gender = sujet[\"questionnaire\"][\"Gender\"].strip()\n",
    "        age = sujet[\"questionnaire\"][\"AGE\"]\n",
    "        taille = sujet[\"questionnaire\"][\"HEIGHT\"]\n",
    "        skin = sujet[\"questionnaire\"][\"SKIN\"]\n",
    "        sport = sujet[\"questionnaire\"][\"SPORT\"]\n",
    "        label = sujet[\"label\"][valeur]\n",
    "        activ = sujet[\"activity\"][compt]\n",
    "        df =df.append({\"Gender\":gender,\"Age\":age,\"Height\":taille,\"Skin\":skin,\"Sport\":sport,\"HearthRate\":label,\"Activity\":activ},ignore_index=True)\n",
    "        compt+=8\n",
    "    compt = 0\n"
   ]
  },
  {
   "cell_type": "code",
   "execution_count": 463,
   "metadata": {
    "scrolled": false
   },
   "outputs": [
    {
     "name": "stdout",
     "output_type": "stream",
     "text": [
      "168.0    13761\n",
      "170.0    13408\n",
      "164.0     5321\n",
      "180.0     4649\n",
      "182.0     4603\n",
      "167.0     4277\n",
      "189.0     4099\n",
      "179.0     4037\n",
      "183.0     3966\n",
      "195.0     3954\n",
      "Name: Height, dtype: int64\n",
      "168.0    110161\n",
      "170.0    107337\n",
      "164.0     42591\n",
      "180.0     37219\n",
      "182.0     36847\n",
      "167.0     34239\n",
      "189.0     32819\n",
      "179.0     32319\n",
      "183.0     31755\n",
      "195.0     31655\n",
      "Name: Height, dtype: int64\n"
     ]
    }
   ],
   "source": [
    "print(df[\"Height\"].value_counts())\n",
    "print(df2[\"Height\"].value_counts())"
   ]
  },
  {
   "cell_type": "code",
   "execution_count": 9,
   "metadata": {
    "scrolled": true
   },
   "outputs": [
    {
     "name": "stdout",
     "output_type": "stream",
     "text": [
      "[0.0]    131130\n",
      "[6.0]    108412\n",
      "[8.0]     68020\n",
      "[5.0]     50556\n",
      "[7.0]     37564\n",
      "[1.0]     34048\n",
      "[4.0]     25700\n",
      "[2.0]     24232\n",
      "[3.0]     17280\n",
      "Name: Activ, dtype: int64\n"
     ]
    }
   ],
   "source": [
    "#print(df[\"Activity\"].value_counts())\n",
    "print(df2[\"Activ\"].value_counts())"
   ]
  },
  {
   "cell_type": "code",
   "execution_count": 473,
   "metadata": {},
   "outputs": [
    {
     "name": "stdout",
     "output_type": "stream",
     "text": [
      "2    259985\n",
      "1    236957\n",
      "Name: Gender, dtype: int64\n"
     ]
    }
   ],
   "source": [
    "print(df2[\"Gender\"].value_counts())"
   ]
  },
  {
   "cell_type": "code",
   "execution_count": 464,
   "metadata": {},
   "outputs": [
    {
     "data": {
      "text/html": [
       "<div>\n",
       "<style scoped>\n",
       "    .dataframe tbody tr th:only-of-type {\n",
       "        vertical-align: middle;\n",
       "    }\n",
       "\n",
       "    .dataframe tbody tr th {\n",
       "        vertical-align: top;\n",
       "    }\n",
       "\n",
       "    .dataframe thead th {\n",
       "        text-align: right;\n",
       "    }\n",
       "</style>\n",
       "<table border=\"1\" class=\"dataframe\">\n",
       "  <thead>\n",
       "    <tr style=\"text-align: right;\">\n",
       "      <th></th>\n",
       "      <th>Unnamed: 0</th>\n",
       "      <th>Gender</th>\n",
       "      <th>Age</th>\n",
       "      <th>Height</th>\n",
       "      <th>Skin</th>\n",
       "      <th>Sport</th>\n",
       "      <th>HearthRate</th>\n",
       "      <th>Activity</th>\n",
       "    </tr>\n",
       "  </thead>\n",
       "  <tbody>\n",
       "    <tr>\n",
       "      <td>0</td>\n",
       "      <td>0</td>\n",
       "      <td>1</td>\n",
       "      <td>34</td>\n",
       "      <td>182.0</td>\n",
       "      <td>3</td>\n",
       "      <td>6</td>\n",
       "      <td>49.611369</td>\n",
       "      <td>0</td>\n",
       "    </tr>\n",
       "    <tr>\n",
       "      <td>1</td>\n",
       "      <td>1</td>\n",
       "      <td>1</td>\n",
       "      <td>34</td>\n",
       "      <td>182.0</td>\n",
       "      <td>3</td>\n",
       "      <td>6</td>\n",
       "      <td>50.323992</td>\n",
       "      <td>0</td>\n",
       "    </tr>\n",
       "    <tr>\n",
       "      <td>2</td>\n",
       "      <td>2</td>\n",
       "      <td>1</td>\n",
       "      <td>34</td>\n",
       "      <td>182.0</td>\n",
       "      <td>3</td>\n",
       "      <td>6</td>\n",
       "      <td>52.708336</td>\n",
       "      <td>0</td>\n",
       "    </tr>\n",
       "    <tr>\n",
       "      <td>3</td>\n",
       "      <td>3</td>\n",
       "      <td>1</td>\n",
       "      <td>34</td>\n",
       "      <td>182.0</td>\n",
       "      <td>3</td>\n",
       "      <td>6</td>\n",
       "      <td>55.640794</td>\n",
       "      <td>0</td>\n",
       "    </tr>\n",
       "    <tr>\n",
       "      <td>4</td>\n",
       "      <td>4</td>\n",
       "      <td>1</td>\n",
       "      <td>34</td>\n",
       "      <td>182.0</td>\n",
       "      <td>3</td>\n",
       "      <td>6</td>\n",
       "      <td>57.658406</td>\n",
       "      <td>0</td>\n",
       "    </tr>\n",
       "  </tbody>\n",
       "</table>\n",
       "</div>"
      ],
      "text/plain": [
       "   Unnamed: 0  Gender  Age  Height  Skin  Sport  HearthRate  Activity\n",
       "0           0       1   34   182.0     3      6   49.611369         0\n",
       "1           1       1   34   182.0     3      6   50.323992         0\n",
       "2           2       1   34   182.0     3      6   52.708336         0\n",
       "3           3       1   34   182.0     3      6   55.640794         0\n",
       "4           4       1   34   182.0     3      6   57.658406         0"
      ]
     },
     "execution_count": 464,
     "metadata": {},
     "output_type": "execute_result"
    }
   ],
   "source": [
    "df.head()"
   ]
  },
  {
   "cell_type": "code",
   "execution_count": 53,
   "metadata": {
    "scrolled": true
   },
   "outputs": [
    {
     "data": {
      "text/plain": [
       "0    130788\n",
       "6    108412\n",
       "8     68020\n",
       "5     50556\n",
       "7     37564\n",
       "1     34048\n",
       "4     25700\n",
       "2     24232\n",
       "3     17280\n",
       "Name: Activ, dtype: int64"
      ]
     },
     "execution_count": 53,
     "metadata": {},
     "output_type": "execute_result"
    }
   ],
   "source": [
    "df2[\"Activ\"].value_counts()"
   ]
  },
  {
   "cell_type": "markdown",
   "metadata": {},
   "source": [
    "### Quelques modifications "
   ]
  },
  {
   "cell_type": "code",
   "execution_count": 57,
   "metadata": {},
   "outputs": [],
   "source": [
    "df[\"Activity\"] = df[\"Activity\"].astype(int)\n",
    "df = pd.get_dummies( df, columns = [\"Gender\"] )\n",
    "df = df[[\"Gender_m\",\"Gender_f\",\"Age\",\"Height\",\"Skin\",\"Sport\",\"HearthRate\",\"Activity\"]]"
   ]
  },
  {
   "cell_type": "code",
   "execution_count": 51,
   "metadata": {},
   "outputs": [],
   "source": [
    "df2[\"Activ\"] = [int(str(df2[\"Activ\"][index])[1:-2]) for index ,value in enumerate(df2[\"Activ\"])]\n",
    "df2 = pd.get_dummies( df2, columns = [\"Gender\"] )\n",
    "df2 = df2[df2[\"Labels\"]!=9]\n",
    "df2 = df2[[\"Gender_m\",\"Gender_f\",\"Age\",\"Height\",\"Skin\",\"Sport\",\"ACC_chest_0\",\"ACC_chest_1\",\"ACC_chest_2\",\"ACC_wrist_0\",\"ACC_wrist_1\",\"ACC_wrist_2\",\"BVP\",\"ECG\",\"Resp\",\"Labels\",\"Activ\"]]"
   ]
  },
  {
   "cell_type": "markdown",
   "metadata": {},
   "source": [
    "### Recupération de mes dataframe enregistré en préalable pour éviter de les charger une deuxieme fois"
   ]
  },
  {
   "cell_type": "code",
   "execution_count": 63,
   "metadata": {},
   "outputs": [],
   "source": [
    "#Recupération de mes dataframe enregistré en préalable \n",
    "df = pd.read_csv(\"deuxiemeDF.csv\")\n",
    "df2 = pd.read_csv(\"df2.csv\")\n",
    "df.drop(columns=[\"Unnamed: 0\"],inplace=True)\n",
    "df2.drop(columns=[\"Unnamed: 0\"],inplace=True)"
   ]
  },
  {
   "cell_type": "code",
   "execution_count": 181,
   "metadata": {
    "scrolled": true
   },
   "outputs": [
    {
     "data": {
      "text/plain": [
       "<matplotlib.axes._subplots.AxesSubplot at 0x146bf6c10>"
      ]
     },
     "execution_count": 181,
     "metadata": {},
     "output_type": "execute_result"
    },
    {
     "data": {
      "image/png": "[encoded data removed]",
      "text/plain": [
       "<Figure size 432x288 with 1 Axes>"
      ]
     },
     "metadata": {
      "needs_background": "light"
     },
     "output_type": "display_data"
    }
   ],
   "source": [
    "df.plot.scatter(x=\"HearthRate\",y=\"Activity\")"
   ]
  },
  {
   "cell_type": "code",
   "execution_count": 64,
   "metadata": {},
   "outputs": [
    {
     "data": {
      "text/html": [
       "<div>\n",
       "<style scoped>\n",
       "    .dataframe tbody tr th:only-of-type {\n",
       "        vertical-align: middle;\n",
       "    }\n",
       "\n",
       "    .dataframe tbody tr th {\n",
       "        vertical-align: top;\n",
       "    }\n",
       "\n",
       "    .dataframe thead th {\n",
       "        text-align: right;\n",
       "    }\n",
       "</style>\n",
       "<table border=\"1\" class=\"dataframe\">\n",
       "  <thead>\n",
       "    <tr style=\"text-align: right;\">\n",
       "      <th></th>\n",
       "      <th>Gender_m</th>\n",
       "      <th>Gender_f</th>\n",
       "      <th>Age</th>\n",
       "      <th>Height</th>\n",
       "      <th>Skin</th>\n",
       "      <th>Sport</th>\n",
       "      <th>HearthRate</th>\n",
       "      <th>Activity</th>\n",
       "    </tr>\n",
       "  </thead>\n",
       "  <tbody>\n",
       "    <tr>\n",
       "      <td>0</td>\n",
       "      <td>1</td>\n",
       "      <td>0</td>\n",
       "      <td>34</td>\n",
       "      <td>182.0</td>\n",
       "      <td>3</td>\n",
       "      <td>6</td>\n",
       "      <td>49.611369</td>\n",
       "      <td>0</td>\n",
       "    </tr>\n",
       "    <tr>\n",
       "      <td>1</td>\n",
       "      <td>1</td>\n",
       "      <td>0</td>\n",
       "      <td>34</td>\n",
       "      <td>182.0</td>\n",
       "      <td>3</td>\n",
       "      <td>6</td>\n",
       "      <td>50.323992</td>\n",
       "      <td>0</td>\n",
       "    </tr>\n",
       "    <tr>\n",
       "      <td>2</td>\n",
       "      <td>1</td>\n",
       "      <td>0</td>\n",
       "      <td>34</td>\n",
       "      <td>182.0</td>\n",
       "      <td>3</td>\n",
       "      <td>6</td>\n",
       "      <td>52.708336</td>\n",
       "      <td>0</td>\n",
       "    </tr>\n",
       "    <tr>\n",
       "      <td>3</td>\n",
       "      <td>1</td>\n",
       "      <td>0</td>\n",
       "      <td>34</td>\n",
       "      <td>182.0</td>\n",
       "      <td>3</td>\n",
       "      <td>6</td>\n",
       "      <td>55.640794</td>\n",
       "      <td>0</td>\n",
       "    </tr>\n",
       "    <tr>\n",
       "      <td>4</td>\n",
       "      <td>1</td>\n",
       "      <td>0</td>\n",
       "      <td>34</td>\n",
       "      <td>182.0</td>\n",
       "      <td>3</td>\n",
       "      <td>6</td>\n",
       "      <td>57.658406</td>\n",
       "      <td>0</td>\n",
       "    </tr>\n",
       "  </tbody>\n",
       "</table>\n",
       "</div>"
      ],
      "text/plain": [
       "   Gender_m  Gender_f  Age  Height  Skin  Sport  HearthRate  Activity\n",
       "0         1         0   34   182.0     3      6   49.611369         0\n",
       "1         1         0   34   182.0     3      6   50.323992         0\n",
       "2         1         0   34   182.0     3      6   52.708336         0\n",
       "3         1         0   34   182.0     3      6   55.640794         0\n",
       "4         1         0   34   182.0     3      6   57.658406         0"
      ]
     },
     "execution_count": 64,
     "metadata": {},
     "output_type": "execute_result"
    }
   ],
   "source": [
    "df.head()"
   ]
  },
  {
   "cell_type": "code",
   "execution_count": 65,
   "metadata": {
    "scrolled": true
   },
   "outputs": [
    {
     "data": {
      "text/html": [
       "<div>\n",
       "<style scoped>\n",
       "    .dataframe tbody tr th:only-of-type {\n",
       "        vertical-align: middle;\n",
       "    }\n",
       "\n",
       "    .dataframe tbody tr th {\n",
       "        vertical-align: top;\n",
       "    }\n",
       "\n",
       "    .dataframe thead th {\n",
       "        text-align: right;\n",
       "    }\n",
       "</style>\n",
       "<table border=\"1\" class=\"dataframe\">\n",
       "  <thead>\n",
       "    <tr style=\"text-align: right;\">\n",
       "      <th></th>\n",
       "      <th>Gender_m</th>\n",
       "      <th>Gender_f</th>\n",
       "      <th>Age</th>\n",
       "      <th>Height</th>\n",
       "      <th>Skin</th>\n",
       "      <th>Sport</th>\n",
       "      <th>ACC_chest_0</th>\n",
       "      <th>ACC_chest_1</th>\n",
       "      <th>ACC_chest_2</th>\n",
       "      <th>ACC_wrist_0</th>\n",
       "      <th>ACC_wrist_1</th>\n",
       "      <th>ACC_wrist_2</th>\n",
       "      <th>BVP</th>\n",
       "      <th>ECG</th>\n",
       "      <th>Resp</th>\n",
       "      <th>Activ</th>\n",
       "    </tr>\n",
       "  </thead>\n",
       "  <tbody>\n",
       "    <tr>\n",
       "      <td>0</td>\n",
       "      <td>1</td>\n",
       "      <td>0</td>\n",
       "      <td>34</td>\n",
       "      <td>182.0</td>\n",
       "      <td>3</td>\n",
       "      <td>6</td>\n",
       "      <td>0.852152</td>\n",
       "      <td>-0.066482</td>\n",
       "      <td>-0.367790</td>\n",
       "      <td>-0.763889</td>\n",
       "      <td>-0.076389</td>\n",
       "      <td>0.670139</td>\n",
       "      <td>-0.538235</td>\n",
       "      <td>0.035358</td>\n",
       "      <td>4.834678</td>\n",
       "      <td>0</td>\n",
       "    </tr>\n",
       "    <tr>\n",
       "      <td>1</td>\n",
       "      <td>1</td>\n",
       "      <td>0</td>\n",
       "      <td>34</td>\n",
       "      <td>182.0</td>\n",
       "      <td>3</td>\n",
       "      <td>6</td>\n",
       "      <td>0.851262</td>\n",
       "      <td>-0.066659</td>\n",
       "      <td>-0.370454</td>\n",
       "      <td>-0.763672</td>\n",
       "      <td>-0.078125</td>\n",
       "      <td>0.671875</td>\n",
       "      <td>-28.756875</td>\n",
       "      <td>0.103185</td>\n",
       "      <td>4.230059</td>\n",
       "      <td>0</td>\n",
       "    </tr>\n",
       "    <tr>\n",
       "      <td>2</td>\n",
       "      <td>1</td>\n",
       "      <td>0</td>\n",
       "      <td>34</td>\n",
       "      <td>182.0</td>\n",
       "      <td>3</td>\n",
       "      <td>6</td>\n",
       "      <td>0.851616</td>\n",
       "      <td>-0.064659</td>\n",
       "      <td>-0.370213</td>\n",
       "      <td>-0.759766</td>\n",
       "      <td>-0.078125</td>\n",
       "      <td>0.671875</td>\n",
       "      <td>-37.401875</td>\n",
       "      <td>0.097211</td>\n",
       "      <td>2.043701</td>\n",
       "      <td>0</td>\n",
       "    </tr>\n",
       "    <tr>\n",
       "      <td>3</td>\n",
       "      <td>1</td>\n",
       "      <td>0</td>\n",
       "      <td>34</td>\n",
       "      <td>182.0</td>\n",
       "      <td>3</td>\n",
       "      <td>6</td>\n",
       "      <td>0.852094</td>\n",
       "      <td>-0.065510</td>\n",
       "      <td>-0.371309</td>\n",
       "      <td>-0.755859</td>\n",
       "      <td>-0.078125</td>\n",
       "      <td>0.671875</td>\n",
       "      <td>25.966250</td>\n",
       "      <td>-0.169330</td>\n",
       "      <td>-0.476641</td>\n",
       "      <td>0</td>\n",
       "    </tr>\n",
       "    <tr>\n",
       "      <td>4</td>\n",
       "      <td>1</td>\n",
       "      <td>0</td>\n",
       "      <td>34</td>\n",
       "      <td>182.0</td>\n",
       "      <td>3</td>\n",
       "      <td>6</td>\n",
       "      <td>0.851957</td>\n",
       "      <td>-0.065895</td>\n",
       "      <td>-0.370439</td>\n",
       "      <td>-0.759766</td>\n",
       "      <td>-0.076172</td>\n",
       "      <td>0.671875</td>\n",
       "      <td>24.570000</td>\n",
       "      <td>-0.036095</td>\n",
       "      <td>-1.870065</td>\n",
       "      <td>0</td>\n",
       "    </tr>\n",
       "  </tbody>\n",
       "</table>\n",
       "</div>"
      ],
      "text/plain": [
       "   Gender_m  Gender_f  Age  Height  Skin  Sport  ACC_chest_0  ACC_chest_1  \\\n",
       "0         1         0   34   182.0     3      6     0.852152    -0.066482   \n",
       "1         1         0   34   182.0     3      6     0.851262    -0.066659   \n",
       "2         1         0   34   182.0     3      6     0.851616    -0.064659   \n",
       "3         1         0   34   182.0     3      6     0.852094    -0.065510   \n",
       "4         1         0   34   182.0     3      6     0.851957    -0.065895   \n",
       "\n",
       "   ACC_chest_2  ACC_wrist_0  ACC_wrist_1  ACC_wrist_2        BVP       ECG  \\\n",
       "0    -0.367790    -0.763889    -0.076389     0.670139  -0.538235  0.035358   \n",
       "1    -0.370454    -0.763672    -0.078125     0.671875 -28.756875  0.103185   \n",
       "2    -0.370213    -0.759766    -0.078125     0.671875 -37.401875  0.097211   \n",
       "3    -0.371309    -0.755859    -0.078125     0.671875  25.966250 -0.169330   \n",
       "4    -0.370439    -0.759766    -0.076172     0.671875  24.570000 -0.036095   \n",
       "\n",
       "       Resp  Activ  \n",
       "0  4.834678      0  \n",
       "1  4.230059      0  \n",
       "2  2.043701      0  \n",
       "3 -0.476641      0  \n",
       "4 -1.870065      0  "
      ]
     },
     "execution_count": 65,
     "metadata": {},
     "output_type": "execute_result"
    }
   ],
   "source": [
    "df2.head()"
   ]
  },
  {
   "cell_type": "code",
   "execution_count": 366,
   "metadata": {
    "scrolled": false
   },
   "outputs": [
    {
     "data": {
      "text/html": [
       "<div>\n",
       "<style scoped>\n",
       "    .dataframe tbody tr th:only-of-type {\n",
       "        vertical-align: middle;\n",
       "    }\n",
       "\n",
       "    .dataframe tbody tr th {\n",
       "        vertical-align: top;\n",
       "    }\n",
       "\n",
       "    .dataframe thead th {\n",
       "        text-align: right;\n",
       "    }\n",
       "</style>\n",
       "<table border=\"1\" class=\"dataframe\">\n",
       "  <thead>\n",
       "    <tr style=\"text-align: right;\">\n",
       "      <th></th>\n",
       "      <th>Gender</th>\n",
       "      <th>Age</th>\n",
       "      <th>Height</th>\n",
       "      <th>Skin</th>\n",
       "      <th>Sport</th>\n",
       "      <th>ACC_chest_0</th>\n",
       "      <th>ACC_chest_1</th>\n",
       "      <th>ACC_chest_2</th>\n",
       "      <th>ACC_wrist_0</th>\n",
       "      <th>ACC_wrist_1</th>\n",
       "      <th>ACC_wrist_2</th>\n",
       "      <th>BVP</th>\n",
       "      <th>ECG</th>\n",
       "      <th>Resp</th>\n",
       "      <th>Activ</th>\n",
       "    </tr>\n",
       "  </thead>\n",
       "  <tbody>\n",
       "    <tr>\n",
       "      <td>count</td>\n",
       "      <td>496942.000000</td>\n",
       "      <td>496942.000000</td>\n",
       "      <td>496942.000000</td>\n",
       "      <td>496942.000000</td>\n",
       "      <td>496942.000000</td>\n",
       "      <td>496942.000000</td>\n",
       "      <td>496942.000000</td>\n",
       "      <td>496942.000000</td>\n",
       "      <td>496942.000000</td>\n",
       "      <td>496942.000000</td>\n",
       "      <td>496942.000000</td>\n",
       "      <td>496942.000000</td>\n",
       "      <td>496942.000000</td>\n",
       "      <td>496942.000000</td>\n",
       "      <td>496942.000000</td>\n",
       "    </tr>\n",
       "    <tr>\n",
       "      <td>mean</td>\n",
       "      <td>1.523170</td>\n",
       "      <td>30.257016</td>\n",
       "      <td>174.737758</td>\n",
       "      <td>3.164353</td>\n",
       "      <td>4.775078</td>\n",
       "      <td>0.867694</td>\n",
       "      <td>-0.003780</td>\n",
       "      <td>-0.091069</td>\n",
       "      <td>-0.520602</td>\n",
       "      <td>0.089713</td>\n",
       "      <td>0.359017</td>\n",
       "      <td>-0.000893</td>\n",
       "      <td>0.001086</td>\n",
       "      <td>0.048847</td>\n",
       "      <td>3.918993</td>\n",
       "    </tr>\n",
       "    <tr>\n",
       "      <td>std</td>\n",
       "      <td>0.499463</td>\n",
       "      <td>10.135502</td>\n",
       "      <td>8.946138</td>\n",
       "      <td>0.514921</td>\n",
       "      <td>0.959642</td>\n",
       "      <td>0.115435</td>\n",
       "      <td>0.094922</td>\n",
       "      <td>0.280187</td>\n",
       "      <td>0.316298</td>\n",
       "      <td>0.628948</td>\n",
       "      <td>0.386260</td>\n",
       "      <td>69.980503</td>\n",
       "      <td>0.136689</td>\n",
       "      <td>4.397025</td>\n",
       "      <td>2.984394</td>\n",
       "    </tr>\n",
       "    <tr>\n",
       "      <td>min</td>\n",
       "      <td>1.000000</td>\n",
       "      <td>21.000000</td>\n",
       "      <td>164.000000</td>\n",
       "      <td>2.000000</td>\n",
       "      <td>2.000000</td>\n",
       "      <td>-0.620329</td>\n",
       "      <td>-0.851983</td>\n",
       "      <td>-0.952922</td>\n",
       "      <td>-1.908203</td>\n",
       "      <td>-1.937500</td>\n",
       "      <td>-1.818359</td>\n",
       "      <td>-1360.401250</td>\n",
       "      <td>-1.430011</td>\n",
       "      <td>-49.979893</td>\n",
       "      <td>0.000000</td>\n",
       "    </tr>\n",
       "    <tr>\n",
       "      <td>25%</td>\n",
       "      <td>1.000000</td>\n",
       "      <td>24.000000</td>\n",
       "      <td>168.000000</td>\n",
       "      <td>3.000000</td>\n",
       "      <td>5.000000</td>\n",
       "      <td>0.817267</td>\n",
       "      <td>-0.065134</td>\n",
       "      <td>-0.251266</td>\n",
       "      <td>-0.781250</td>\n",
       "      <td>-0.351562</td>\n",
       "      <td>0.115234</td>\n",
       "      <td>-25.395000</td>\n",
       "      <td>-0.059347</td>\n",
       "      <td>-2.285895</td>\n",
       "      <td>0.000000</td>\n",
       "    </tr>\n",
       "    <tr>\n",
       "      <td>50%</td>\n",
       "      <td>2.000000</td>\n",
       "      <td>26.000000</td>\n",
       "      <td>170.000000</td>\n",
       "      <td>3.000000</td>\n",
       "      <td>5.000000</td>\n",
       "      <td>0.890144</td>\n",
       "      <td>-0.008874</td>\n",
       "      <td>-0.080831</td>\n",
       "      <td>-0.505859</td>\n",
       "      <td>-0.015625</td>\n",
       "      <td>0.345703</td>\n",
       "      <td>1.581250</td>\n",
       "      <td>-0.000411</td>\n",
       "      <td>-0.104270</td>\n",
       "      <td>5.000000</td>\n",
       "    </tr>\n",
       "    <tr>\n",
       "      <td>75%</td>\n",
       "      <td>2.000000</td>\n",
       "      <td>34.000000</td>\n",
       "      <td>182.000000</td>\n",
       "      <td>3.000000</td>\n",
       "      <td>5.000000</td>\n",
       "      <td>0.913683</td>\n",
       "      <td>0.052049</td>\n",
       "      <td>0.089801</td>\n",
       "      <td>-0.296875</td>\n",
       "      <td>0.644531</td>\n",
       "      <td>0.691406</td>\n",
       "      <td>27.418750</td>\n",
       "      <td>0.061391</td>\n",
       "      <td>2.288182</td>\n",
       "      <td>6.000000</td>\n",
       "    </tr>\n",
       "    <tr>\n",
       "      <td>max</td>\n",
       "      <td>2.000000</td>\n",
       "      <td>55.000000</td>\n",
       "      <td>195.000000</td>\n",
       "      <td>4.000000</td>\n",
       "      <td>6.000000</td>\n",
       "      <td>1.615166</td>\n",
       "      <td>0.790016</td>\n",
       "      <td>1.368031</td>\n",
       "      <td>1.324219</td>\n",
       "      <td>1.980469</td>\n",
       "      <td>1.683594</td>\n",
       "      <td>1386.401250</td>\n",
       "      <td>1.449997</td>\n",
       "      <td>49.974470</td>\n",
       "      <td>8.000000</td>\n",
       "    </tr>\n",
       "  </tbody>\n",
       "</table>\n",
       "</div>"
      ],
      "text/plain": [
       "              Gender            Age         Height           Skin  \\\n",
       "count  496942.000000  496942.000000  496942.000000  496942.000000   \n",
       "mean        1.523170      30.257016     174.737758       3.164353   \n",
       "std         0.499463      10.135502       8.946138       0.514921   \n",
       "min         1.000000      21.000000     164.000000       2.000000   \n",
       "25%         1.000000      24.000000     168.000000       3.000000   \n",
       "50%         2.000000      26.000000     170.000000       3.000000   \n",
       "75%         2.000000      34.000000     182.000000       3.000000   \n",
       "max         2.000000      55.000000     195.000000       4.000000   \n",
       "\n",
       "               Sport    ACC_chest_0    ACC_chest_1    ACC_chest_2  \\\n",
       "count  496942.000000  496942.000000  496942.000000  496942.000000   \n",
       "mean        4.775078       0.867694      -0.003780      -0.091069   \n",
       "std         0.959642       0.115435       0.094922       0.280187   \n",
       "min         2.000000      -0.620329      -0.851983      -0.952922   \n",
       "25%         5.000000       0.817267      -0.065134      -0.251266   \n",
       "50%         5.000000       0.890144      -0.008874      -0.080831   \n",
       "75%         5.000000       0.913683       0.052049       0.089801   \n",
       "max         6.000000       1.615166       0.790016       1.368031   \n",
       "\n",
       "         ACC_wrist_0    ACC_wrist_1    ACC_wrist_2            BVP  \\\n",
       "count  496942.000000  496942.000000  496942.000000  496942.000000   \n",
       "mean       -0.520602       0.089713       0.359017      -0.000893   \n",
       "std         0.316298       0.628948       0.386260      69.980503   \n",
       "min        -1.908203      -1.937500      -1.818359   -1360.401250   \n",
       "25%        -0.781250      -0.351562       0.115234     -25.395000   \n",
       "50%        -0.505859      -0.015625       0.345703       1.581250   \n",
       "75%        -0.296875       0.644531       0.691406      27.418750   \n",
       "max         1.324219       1.980469       1.683594    1386.401250   \n",
       "\n",
       "                 ECG           Resp          Activ  \n",
       "count  496942.000000  496942.000000  496942.000000  \n",
       "mean        0.001086       0.048847       3.918993  \n",
       "std         0.136689       4.397025       2.984394  \n",
       "min        -1.430011     -49.979893       0.000000  \n",
       "25%        -0.059347      -2.285895       0.000000  \n",
       "50%        -0.000411      -0.104270       5.000000  \n",
       "75%         0.061391       2.288182       6.000000  \n",
       "max         1.449997      49.974470       8.000000  "
      ]
     },
     "execution_count": 366,
     "metadata": {},
     "output_type": "execute_result"
    }
   ],
   "source": [
    "df2.describe()"
   ]
  },
  {
   "cell_type": "markdown",
   "metadata": {},
   "source": [
    "### Pour retirer les activity = 0 mais dans notre cas nous allons les garder "
   ]
  },
  {
   "cell_type": "code",
   "execution_count": 16,
   "metadata": {},
   "outputs": [],
   "source": [
    "#df = df[df[\"Activity\"]!=0]\n",
    "#df2 = df2[df2[\"Activ\"]!=0]"
   ]
  },
  {
   "cell_type": "code",
   "execution_count": 537,
   "metadata": {
    "scrolled": true
   },
   "outputs": [
    {
     "data": {
      "text/html": [
       "<div>\n",
       "<style scoped>\n",
       "    .dataframe tbody tr th:only-of-type {\n",
       "        vertical-align: middle;\n",
       "    }\n",
       "\n",
       "    .dataframe tbody tr th {\n",
       "        vertical-align: top;\n",
       "    }\n",
       "\n",
       "    .dataframe thead th {\n",
       "        text-align: right;\n",
       "    }\n",
       "</style>\n",
       "<table border=\"1\" class=\"dataframe\">\n",
       "  <thead>\n",
       "    <tr style=\"text-align: right;\">\n",
       "      <th></th>\n",
       "      <th>Gender</th>\n",
       "      <th>Age</th>\n",
       "      <th>Height</th>\n",
       "      <th>Skin</th>\n",
       "      <th>Sport</th>\n",
       "      <th>ACC_chest_0</th>\n",
       "      <th>ACC_chest_1</th>\n",
       "      <th>ACC_chest_2</th>\n",
       "      <th>ACC_wrist_0</th>\n",
       "      <th>ACC_wrist_1</th>\n",
       "      <th>ACC_wrist_2</th>\n",
       "      <th>BVP</th>\n",
       "      <th>ECG</th>\n",
       "      <th>Resp</th>\n",
       "      <th>Activ</th>\n",
       "    </tr>\n",
       "  </thead>\n",
       "  <tbody>\n",
       "    <tr>\n",
       "      <td>360</td>\n",
       "      <td>1</td>\n",
       "      <td>34</td>\n",
       "      <td>182.0</td>\n",
       "      <td>3</td>\n",
       "      <td>6</td>\n",
       "      <td>0.797880</td>\n",
       "      <td>-0.061398</td>\n",
       "      <td>-0.482296</td>\n",
       "      <td>-0.423828</td>\n",
       "      <td>-0.070312</td>\n",
       "      <td>0.908203</td>\n",
       "      <td>-14.993125</td>\n",
       "      <td>0.156596</td>\n",
       "      <td>-7.090524</td>\n",
       "      <td>1</td>\n",
       "    </tr>\n",
       "    <tr>\n",
       "      <td>361</td>\n",
       "      <td>1</td>\n",
       "      <td>34</td>\n",
       "      <td>182.0</td>\n",
       "      <td>3</td>\n",
       "      <td>6</td>\n",
       "      <td>0.790378</td>\n",
       "      <td>-0.062943</td>\n",
       "      <td>-0.498313</td>\n",
       "      <td>-0.421875</td>\n",
       "      <td>-0.074219</td>\n",
       "      <td>0.917969</td>\n",
       "      <td>-44.176875</td>\n",
       "      <td>0.104828</td>\n",
       "      <td>-6.616316</td>\n",
       "      <td>1</td>\n",
       "    </tr>\n",
       "    <tr>\n",
       "      <td>362</td>\n",
       "      <td>1</td>\n",
       "      <td>34</td>\n",
       "      <td>182.0</td>\n",
       "      <td>3</td>\n",
       "      <td>6</td>\n",
       "      <td>0.793942</td>\n",
       "      <td>-0.064722</td>\n",
       "      <td>-0.495574</td>\n",
       "      <td>-0.421875</td>\n",
       "      <td>-0.070312</td>\n",
       "      <td>0.908203</td>\n",
       "      <td>20.944375</td>\n",
       "      <td>-0.189420</td>\n",
       "      <td>-5.916112</td>\n",
       "      <td>1</td>\n",
       "    </tr>\n",
       "    <tr>\n",
       "      <td>363</td>\n",
       "      <td>1</td>\n",
       "      <td>34</td>\n",
       "      <td>182.0</td>\n",
       "      <td>3</td>\n",
       "      <td>6</td>\n",
       "      <td>0.787776</td>\n",
       "      <td>-0.063497</td>\n",
       "      <td>-0.501667</td>\n",
       "      <td>-0.421875</td>\n",
       "      <td>-0.076172</td>\n",
       "      <td>0.910156</td>\n",
       "      <td>22.923125</td>\n",
       "      <td>-0.070157</td>\n",
       "      <td>-5.816607</td>\n",
       "      <td>1</td>\n",
       "    </tr>\n",
       "    <tr>\n",
       "      <td>364</td>\n",
       "      <td>1</td>\n",
       "      <td>34</td>\n",
       "      <td>182.0</td>\n",
       "      <td>3</td>\n",
       "      <td>6</td>\n",
       "      <td>0.788554</td>\n",
       "      <td>-0.063352</td>\n",
       "      <td>-0.501888</td>\n",
       "      <td>-0.421875</td>\n",
       "      <td>-0.074219</td>\n",
       "      <td>0.914062</td>\n",
       "      <td>-0.040625</td>\n",
       "      <td>0.010568</td>\n",
       "      <td>-5.342843</td>\n",
       "      <td>1</td>\n",
       "    </tr>\n",
       "  </tbody>\n",
       "</table>\n",
       "</div>"
      ],
      "text/plain": [
       "     Gender  Age  Height  Skin  Sport  ACC_chest_0  ACC_chest_1  ACC_chest_2  \\\n",
       "360       1   34   182.0     3      6     0.797880    -0.061398    -0.482296   \n",
       "361       1   34   182.0     3      6     0.790378    -0.062943    -0.498313   \n",
       "362       1   34   182.0     3      6     0.793942    -0.064722    -0.495574   \n",
       "363       1   34   182.0     3      6     0.787776    -0.063497    -0.501667   \n",
       "364       1   34   182.0     3      6     0.788554    -0.063352    -0.501888   \n",
       "\n",
       "     ACC_wrist_0  ACC_wrist_1  ACC_wrist_2        BVP       ECG      Resp  \\\n",
       "360    -0.423828    -0.070312     0.908203 -14.993125  0.156596 -7.090524   \n",
       "361    -0.421875    -0.074219     0.917969 -44.176875  0.104828 -6.616316   \n",
       "362    -0.421875    -0.070312     0.908203  20.944375 -0.189420 -5.916112   \n",
       "363    -0.421875    -0.076172     0.910156  22.923125 -0.070157 -5.816607   \n",
       "364    -0.421875    -0.074219     0.914062  -0.040625  0.010568 -5.342843   \n",
       "\n",
       "     Activ  \n",
       "360      1  \n",
       "361      1  \n",
       "362      1  \n",
       "363      1  \n",
       "364      1  "
      ]
     },
     "execution_count": 537,
     "metadata": {},
     "output_type": "execute_result"
    }
   ],
   "source": [
    "df2.head()"
   ]
  },
  {
   "cell_type": "code",
   "execution_count": 54,
   "metadata": {},
   "outputs": [],
   "source": [
    "#Création de deux csv pour ne pas avoir besoin de tout réexécuter \n",
    "#df.to_csv(\"deuxiemeDF.csv\")\n",
    "#df2.to_csv(\"df2.csv\")"
   ]
  },
  {
   "cell_type": "markdown",
   "metadata": {},
   "source": [
    "# Creation du model "
   ]
  },
  {
   "cell_type": "code",
   "execution_count": 55,
   "metadata": {},
   "outputs": [],
   "source": [
    "from sklearn.model_selection import train_test_split\n",
    "\n",
    "from sklearn.metrics import roc_curve, auc\n",
    "from sklearn.metrics import roc_auc_score\n",
    "from sklearn.metrics import confusion_matrix , accuracy_score\n",
    "import seaborn as sn\n",
    "from  sklearn.ensemble import RandomForestClassifier\n",
    "from sklearn.model_selection import cross_val_score\n",
    "from sklearn.model_selection import KFold\n",
    "from sklearn.model_selection import GridSearchCV\n",
    "from sklearn.model_selection import RandomizedSearchCV\n",
    "from sklearn.svm import SVC\n",
    "from sklearn import linear_model\n",
    "from sklearn import ensemble\n",
    "from sklearn.tree import DecisionTreeClassifier\n",
    "import matplotlib.pyplot as plt\n",
    "from pprint import pprint\n",
    "from sklearn.metrics import classification_report\n",
    "import numpy as np\n",
    "%matplotlib inline"
   ]
  },
  {
   "cell_type": "code",
   "execution_count": 56,
   "metadata": {},
   "outputs": [],
   "source": [
    "def featureImportances(algo,X_train):\n",
    "    feature_list = list(X_train.columns)\n",
    "    importances = list(algo.feature_importances_)\n",
    "    feature_importances = [(feature, round(importance, 2)) for feature, importance in zip(feature_list, importances)]\n",
    "    feature_importances = sorted(feature_importances, key = lambda x: x[1], reverse = True)\n",
    "    [print('Variable: {:20} Importance: {}'.format(*pair)) for pair in feature_importances]\n",
    "    plt.style.use('fivethirtyeight')\n",
    "    x_values = list(range(len(importances)))\n",
    "    plt.bar(x_values, importances, orientation = 'vertical')\n",
    "    plt.xticks(x_values, feature_list, rotation='vertical')\n",
    "    plt.ylabel('Importance'); plt.xlabel('Variable'); plt.title('Variable Importances')\n",
    "    plt.show()"
   ]
  },
  {
   "cell_type": "code",
   "execution_count": 58,
   "metadata": {},
   "outputs": [],
   "source": [
    "#X = df.iloc[:,0:df.shape[1]-1]\n",
    "X2 = df2.iloc[:,0:df2.shape[1]-1]"
   ]
  },
  {
   "cell_type": "code",
   "execution_count": 59,
   "metadata": {},
   "outputs": [],
   "source": [
    "#y = df[\"Activity\"]\n",
    "y2 = df2[\"Activ\"]"
   ]
  },
  {
   "cell_type": "code",
   "execution_count": 60,
   "metadata": {},
   "outputs": [],
   "source": [
    "#X_train , X_test , Y_train , Y_test = train_test_split(X,y,test_size=0.25,random_state=1234)\n",
    "X_train2 , X_test2 , Y_train2 , Y_test2 = train_test_split(X2,y2,test_size=0.25,random_state=1234)"
   ]
  },
  {
   "cell_type": "code",
   "execution_count": 71,
   "metadata": {},
   "outputs": [
    {
     "data": {
      "text/plain": [
       "((46556, 7), (15519, 7), (46556,), (15519,))"
      ]
     },
     "execution_count": 71,
     "metadata": {},
     "output_type": "execute_result"
    }
   ],
   "source": [
    "#X_train.shape , X_test.shape ,Y_train.shape, Y_test.shape"
   ]
  },
  {
   "cell_type": "code",
   "execution_count": 61,
   "metadata": {},
   "outputs": [
    {
     "data": {
      "text/plain": [
       "((372450, 16), (124150, 16), (372450,), (124150,))"
      ]
     },
     "execution_count": 61,
     "metadata": {},
     "output_type": "execute_result"
    }
   ],
   "source": [
    "X_train2.shape , X_test2.shape ,Y_train2.shape, Y_test2.shape"
   ]
  },
  {
   "cell_type": "markdown",
   "metadata": {},
   "source": [
    "## Decision tree"
   ]
  },
  {
   "cell_type": "markdown",
   "metadata": {},
   "source": [
    "### Premiere approche"
   ]
  },
  {
   "cell_type": "code",
   "execution_count": 73,
   "metadata": {},
   "outputs": [
    {
     "name": "stdout",
     "output_type": "stream",
     "text": [
      "0.38932920935627296\n"
     ]
    }
   ],
   "source": [
    "tree = DecisionTreeClassifier(random_state=0)\n",
    "tree.fit(X_train,Y_train)\n",
    "print(tree.score(X_test,Y_test))\n",
    "predictionDecisionTree = tree.predict(X_test)"
   ]
  },
  {
   "cell_type": "code",
   "execution_count": 382,
   "metadata": {},
   "outputs": [
    {
     "data": {
      "text/plain": [
       "array([4, 5, 8, 8, 0, 6, 6, 8, 6, 6])"
      ]
     },
     "execution_count": 382,
     "metadata": {},
     "output_type": "execute_result"
    }
   ],
   "source": [
    "prediction[0:10]"
   ]
  },
  {
   "cell_type": "code",
   "execution_count": 383,
   "metadata": {
    "scrolled": true
   },
   "outputs": [
    {
     "data": {
      "text/plain": [
       "28289    0\n",
       "16426    6\n",
       "11810    6\n",
       "48550    8\n",
       "6911     0\n",
       "20125    6\n",
       "24445    0\n",
       "52307    6\n",
       "11008    6\n",
       "19936    6\n",
       "Name: Activity, dtype: int64"
      ]
     },
     "execution_count": 383,
     "metadata": {},
     "output_type": "execute_result"
    }
   ],
   "source": [
    "Y_test[0:10]"
   ]
  },
  {
   "cell_type": "markdown",
   "metadata": {},
   "source": [
    "### Deuxieme approche"
   ]
  },
  {
   "cell_type": "code",
   "execution_count": 62,
   "metadata": {},
   "outputs": [
    {
     "name": "stdout",
     "output_type": "stream",
     "text": [
      "0.8475795408779702\n"
     ]
    }
   ],
   "source": [
    "tree2 = DecisionTreeClassifier(random_state=0)\n",
    "tree2.fit(X_train2,Y_train2)\n",
    "print(tree2.score(X_test2,Y_test2))\n",
    "predictionDecisionTree2 = tree2.predict(X_test2)"
   ]
  },
  {
   "cell_type": "code",
   "execution_count": 64,
   "metadata": {},
   "outputs": [
    {
     "data": {
      "text/plain": [
       "array([6, 4, 6, 0, 0, 6, 8, 4, 1, 1])"
      ]
     },
     "execution_count": 64,
     "metadata": {},
     "output_type": "execute_result"
    }
   ],
   "source": [
    "predictionDecisionTree2[0:10]"
   ]
  },
  {
   "cell_type": "code",
   "execution_count": 65,
   "metadata": {
    "scrolled": true
   },
   "outputs": [
    {
     "data": {
      "text/plain": [
       "168729    7\n",
       "225204    4\n",
       "144208    0\n",
       "144379    0\n",
       "124031    0\n",
       "141140    0\n",
       "69944     0\n",
       "258765    4\n",
       "1040      1\n",
       "217401    1\n",
       "Name: Activ, dtype: int64"
      ]
     },
     "execution_count": 65,
     "metadata": {},
     "output_type": "execute_result"
    }
   ],
   "source": [
    "Y_test2[0:10]"
   ]
  },
  {
   "cell_type": "code",
   "execution_count": 66,
   "metadata": {
    "scrolled": false
   },
   "outputs": [
    {
     "name": "stdout",
     "output_type": "stream",
     "text": [
      "[[25107   117  1431   540   145   464  1757  2548   410]\n",
      " [   90  8300     0     2     0    15    49     1    15]\n",
      " [ 1550     1  3920    14    68     6   116   381    19]\n",
      " [  522     3    29  3509    34    10   191    37    33]\n",
      " [  160     0    83    37  6108     2    19    19    11]\n",
      " [  473     6     3     8     2 11834   180    37   232]\n",
      " [ 1614    38   104   173    27   147 24271   340   340]\n",
      " [ 2494     4   320    40    16    32   320  6157    57]\n",
      " [  380    16    15    25     7   178   322    44 16021]]\n"
     ]
    }
   ],
   "source": [
    "cm = confusion_matrix(Y_test2,predictionDecisionTree2)\n",
    "print(cm)"
   ]
  },
  {
   "cell_type": "code",
   "execution_count": 459,
   "metadata": {},
   "outputs": [
    {
     "data": {
      "text/plain": [
       "array([6, 1, 4, 2, 8, 3, 5, 7])"
      ]
     },
     "execution_count": 459,
     "metadata": {},
     "output_type": "execute_result"
    }
   ],
   "source": [
    "Y_test.unique()"
   ]
  },
  {
   "cell_type": "code",
   "execution_count": 67,
   "metadata": {},
   "outputs": [
    {
     "data": {
      "text/plain": [
       "<matplotlib.axes._subplots.AxesSubplot at 0x170f89f10>"
      ]
     },
     "execution_count": 67,
     "metadata": {},
     "output_type": "execute_result"
    },
    {
     "data": {
      "image/png": "[encoded data removed]",
      "text/plain": [
       "<Figure size 1008x576 with 2 Axes>"
      ]
     },
     "metadata": {
      "needs_background": "light"
     },
     "output_type": "display_data"
    }
   ],
   "source": [
    "plt.figure(figsize=(14, 8))\n",
    "sn.heatmap(cm, annot=True)"
   ]
  },
  {
   "cell_type": "code",
   "execution_count": 406,
   "metadata": {},
   "outputs": [
    {
     "name": "stdout",
     "output_type": "stream",
     "text": [
      "0.7953330757590392\n"
     ]
    }
   ],
   "source": [
    "print(accuracy_score(Y_test2,predictionDecisionTree2))"
   ]
  },
  {
   "cell_type": "code",
   "execution_count": 68,
   "metadata": {
    "scrolled": false
   },
   "outputs": [
    {
     "name": "stdout",
     "output_type": "stream",
     "text": [
      "Variable: Labels               Importance: 0.19\n",
      "Variable: ACC_wrist_1          Importance: 0.15\n",
      "Variable: ACC_chest_2          Importance: 0.14\n",
      "Variable: ACC_wrist_2          Importance: 0.1\n",
      "Variable: ACC_chest_0          Importance: 0.08\n",
      "Variable: ACC_chest_1          Importance: 0.08\n",
      "Variable: Height               Importance: 0.06\n",
      "Variable: ACC_wrist_0          Importance: 0.05\n",
      "Variable: Age                  Importance: 0.04\n",
      "Variable: Sport                Importance: 0.02\n",
      "Variable: BVP                  Importance: 0.02\n",
      "Variable: ECG                  Importance: 0.02\n",
      "Variable: Resp                 Importance: 0.02\n",
      "Variable: Gender_m             Importance: 0.01\n",
      "Variable: Skin                 Importance: 0.01\n",
      "Variable: Gender_f             Importance: 0.0\n"
     ]
    },
    {
     "data": {
      "image/png": "[encoded data removed]",
      "text/plain": [
       "<Figure size 432x288 with 1 Axes>"
      ]
     },
     "metadata": {},
     "output_type": "display_data"
    }
   ],
   "source": [
    "featureImportances(tree2,X_train2)"
   ]
  },
  {
   "cell_type": "markdown",
   "metadata": {},
   "source": [
    "Grid Search "
   ]
  },
  {
   "cell_type": "code",
   "execution_count": 69,
   "metadata": {
    "collapsed": true
   },
   "outputs": [
    {
     "name": "stdout",
     "output_type": "stream",
     "text": [
      "{'criterion': ['gini', 'entropy'],\n",
      " 'max_features': ['sqrt', 'log2', None],\n",
      " 'min_samples_split': [2, 5, 8, 10]}\n",
      "Fitting 5 folds for each of 24 candidates, totalling 120 fits\n"
     ]
    },
    {
     "name": "stderr",
     "output_type": "stream",
     "text": [
      "[Parallel(n_jobs=1)]: Using backend SequentialBackend with 1 concurrent workers.\n"
     ]
    },
    {
     "ename": "KeyboardInterrupt",
     "evalue": "",
     "output_type": "error",
     "traceback": [
      "\u001b[0;31m---------------------------------------------------------------------------\u001b[0m",
      "\u001b[0;31mKeyboardInterrupt\u001b[0m                         Traceback (most recent call last)",
      "\u001b[0;32m<ipython-input-69-b5caf1286f1b>\u001b[0m in \u001b[0;36m<module>\u001b[0;34m\u001b[0m\n\u001b[1;32m      3\u001b[0m \u001b[0;31m#Apprentissage\u001b[0m\u001b[0;34m\u001b[0m\u001b[0;34m\u001b[0m\u001b[0;34m\u001b[0m\u001b[0m\n\u001b[1;32m      4\u001b[0m \u001b[0mgrid_Arbre\u001b[0m \u001b[0;34m=\u001b[0m \u001b[0mGridSearchCV\u001b[0m\u001b[0;34m(\u001b[0m\u001b[0mDecisionTreeClassifier\u001b[0m\u001b[0;34m(\u001b[0m\u001b[0;34m)\u001b[0m\u001b[0;34m,\u001b[0m \u001b[0mparam_grid\u001b[0m \u001b[0;34m=\u001b[0m \u001b[0mgrid_valuesArbre\u001b[0m\u001b[0;34m,\u001b[0m\u001b[0mscoring\u001b[0m \u001b[0;34m=\u001b[0m \u001b[0;34m'accuracy'\u001b[0m\u001b[0;34m,\u001b[0m\u001b[0mcv\u001b[0m\u001b[0;34m=\u001b[0m\u001b[0mKFold\u001b[0m\u001b[0;34m(\u001b[0m\u001b[0mn_splits\u001b[0m\u001b[0;34m=\u001b[0m\u001b[0;36m5\u001b[0m\u001b[0;34m,\u001b[0m\u001b[0mshuffle\u001b[0m\u001b[0;34m=\u001b[0m\u001b[0;32mTrue\u001b[0m\u001b[0;34m)\u001b[0m\u001b[0;34m,\u001b[0m \u001b[0mverbose\u001b[0m\u001b[0;34m=\u001b[0m\u001b[0;36m1\u001b[0m\u001b[0;34m)\u001b[0m\u001b[0;34m\u001b[0m\u001b[0;34m\u001b[0m\u001b[0m\n\u001b[0;32m----> 5\u001b[0;31m \u001b[0mgrid_Arbre\u001b[0m\u001b[0;34m.\u001b[0m\u001b[0mfit\u001b[0m\u001b[0;34m(\u001b[0m\u001b[0mX_train2\u001b[0m\u001b[0;34m,\u001b[0m \u001b[0mY_train2\u001b[0m\u001b[0;34m)\u001b[0m\u001b[0;34m\u001b[0m\u001b[0;34m\u001b[0m\u001b[0m\n\u001b[0m\u001b[1;32m      6\u001b[0m \u001b[0;34m\u001b[0m\u001b[0m\n\u001b[1;32m      7\u001b[0m \u001b[0;31m#grid_Arbre.cv_results_\u001b[0m\u001b[0;34m\u001b[0m\u001b[0;34m\u001b[0m\u001b[0;34m\u001b[0m\u001b[0m\n",
      "\u001b[0;32m~/opt/anaconda3/lib/python3.7/site-packages/sklearn/model_selection/_search.py\u001b[0m in \u001b[0;36mfit\u001b[0;34m(self, X, y, groups, **fit_params)\u001b[0m\n\u001b[1;32m    721\u001b[0m                 \u001b[0;32mreturn\u001b[0m \u001b[0mresults_container\u001b[0m\u001b[0;34m[\u001b[0m\u001b[0;36m0\u001b[0m\u001b[0;34m]\u001b[0m\u001b[0;34m\u001b[0m\u001b[0;34m\u001b[0m\u001b[0m\n\u001b[1;32m    722\u001b[0m \u001b[0;34m\u001b[0m\u001b[0m\n\u001b[0;32m--> 723\u001b[0;31m             \u001b[0mself\u001b[0m\u001b[0;34m.\u001b[0m\u001b[0m_run_search\u001b[0m\u001b[0;34m(\u001b[0m\u001b[0mevaluate_candidates\u001b[0m\u001b[0;34m)\u001b[0m\u001b[0;34m\u001b[0m\u001b[0;34m\u001b[0m\u001b[0m\n\u001b[0m\u001b[1;32m    724\u001b[0m \u001b[0;34m\u001b[0m\u001b[0m\n\u001b[1;32m    725\u001b[0m         \u001b[0mresults\u001b[0m \u001b[0;34m=\u001b[0m \u001b[0mresults_container\u001b[0m\u001b[0;34m[\u001b[0m\u001b[0;36m0\u001b[0m\u001b[0;34m]\u001b[0m\u001b[0;34m\u001b[0m\u001b[0;34m\u001b[0m\u001b[0m\n",
      "\u001b[0;32m~/opt/anaconda3/lib/python3.7/site-packages/sklearn/model_selection/_search.py\u001b[0m in \u001b[0;36m_run_search\u001b[0;34m(self, evaluate_candidates)\u001b[0m\n\u001b[1;32m   1190\u001b[0m     \u001b[0;32mdef\u001b[0m \u001b[0m_run_search\u001b[0m\u001b[0;34m(\u001b[0m\u001b[0mself\u001b[0m\u001b[0;34m,\u001b[0m \u001b[0mevaluate_candidates\u001b[0m\u001b[0;34m)\u001b[0m\u001b[0;34m:\u001b[0m\u001b[0;34m\u001b[0m\u001b[0;34m\u001b[0m\u001b[0m\n\u001b[1;32m   1191\u001b[0m         \u001b[0;34m\"\"\"Search all candidates in param_grid\"\"\"\u001b[0m\u001b[0;34m\u001b[0m\u001b[0;34m\u001b[0m\u001b[0m\n\u001b[0;32m-> 1192\u001b[0;31m         \u001b[0mevaluate_candidates\u001b[0m\u001b[0;34m(\u001b[0m\u001b[0mParameterGrid\u001b[0m\u001b[0;34m(\u001b[0m\u001b[0mself\u001b[0m\u001b[0;34m.\u001b[0m\u001b[0mparam_grid\u001b[0m\u001b[0;34m)\u001b[0m\u001b[0;34m)\u001b[0m\u001b[0;34m\u001b[0m\u001b[0;34m\u001b[0m\u001b[0m\n\u001b[0m\u001b[1;32m   1193\u001b[0m \u001b[0;34m\u001b[0m\u001b[0m\n\u001b[1;32m   1194\u001b[0m \u001b[0;34m\u001b[0m\u001b[0m\n",
      "\u001b[0;32m~/opt/anaconda3/lib/python3.7/site-packages/sklearn/model_selection/_search.py\u001b[0m in \u001b[0;36mevaluate_candidates\u001b[0;34m(candidate_params)\u001b[0m\n\u001b[1;32m    710\u001b[0m                                \u001b[0;32mfor\u001b[0m \u001b[0mparameters\u001b[0m\u001b[0;34m,\u001b[0m \u001b[0;34m(\u001b[0m\u001b[0mtrain\u001b[0m\u001b[0;34m,\u001b[0m \u001b[0mtest\u001b[0m\u001b[0;34m)\u001b[0m\u001b[0;34m\u001b[0m\u001b[0;34m\u001b[0m\u001b[0m\n\u001b[1;32m    711\u001b[0m                                in product(candidate_params,\n\u001b[0;32m--> 712\u001b[0;31m                                           cv.split(X, y, groups)))\n\u001b[0m\u001b[1;32m    713\u001b[0m \u001b[0;34m\u001b[0m\u001b[0m\n\u001b[1;32m    714\u001b[0m                 \u001b[0mall_candidate_params\u001b[0m\u001b[0;34m.\u001b[0m\u001b[0mextend\u001b[0m\u001b[0;34m(\u001b[0m\u001b[0mcandidate_params\u001b[0m\u001b[0;34m)\u001b[0m\u001b[0;34m\u001b[0m\u001b[0;34m\u001b[0m\u001b[0m\n",
      "\u001b[0;32m~/opt/anaconda3/lib/python3.7/site-packages/sklearn/externals/joblib/parallel.py\u001b[0m in \u001b[0;36m__call__\u001b[0;34m(self, iterable)\u001b[0m\n\u001b[1;32m    922\u001b[0m                 \u001b[0mself\u001b[0m\u001b[0;34m.\u001b[0m\u001b[0m_iterating\u001b[0m \u001b[0;34m=\u001b[0m \u001b[0mself\u001b[0m\u001b[0;34m.\u001b[0m\u001b[0m_original_iterator\u001b[0m \u001b[0;32mis\u001b[0m \u001b[0;32mnot\u001b[0m \u001b[0;32mNone\u001b[0m\u001b[0;34m\u001b[0m\u001b[0;34m\u001b[0m\u001b[0m\n\u001b[1;32m    923\u001b[0m \u001b[0;34m\u001b[0m\u001b[0m\n\u001b[0;32m--> 924\u001b[0;31m             \u001b[0;32mwhile\u001b[0m \u001b[0mself\u001b[0m\u001b[0;34m.\u001b[0m\u001b[0mdispatch_one_batch\u001b[0m\u001b[0;34m(\u001b[0m\u001b[0miterator\u001b[0m\u001b[0;34m)\u001b[0m\u001b[0;34m:\u001b[0m\u001b[0;34m\u001b[0m\u001b[0;34m\u001b[0m\u001b[0m\n\u001b[0m\u001b[1;32m    925\u001b[0m                 \u001b[0;32mpass\u001b[0m\u001b[0;34m\u001b[0m\u001b[0;34m\u001b[0m\u001b[0m\n\u001b[1;32m    926\u001b[0m \u001b[0;34m\u001b[0m\u001b[0m\n",
      "\u001b[0;32m~/opt/anaconda3/lib/python3.7/site-packages/sklearn/externals/joblib/parallel.py\u001b[0m in \u001b[0;36mdispatch_one_batch\u001b[0;34m(self, iterator)\u001b[0m\n\u001b[1;32m    757\u001b[0m                 \u001b[0;32mreturn\u001b[0m \u001b[0;32mFalse\u001b[0m\u001b[0;34m\u001b[0m\u001b[0;34m\u001b[0m\u001b[0m\n\u001b[1;32m    758\u001b[0m             \u001b[0;32melse\u001b[0m\u001b[0;34m:\u001b[0m\u001b[0;34m\u001b[0m\u001b[0;34m\u001b[0m\u001b[0m\n\u001b[0;32m--> 759\u001b[0;31m                 \u001b[0mself\u001b[0m\u001b[0;34m.\u001b[0m\u001b[0m_dispatch\u001b[0m\u001b[0;34m(\u001b[0m\u001b[0mtasks\u001b[0m\u001b[0;34m)\u001b[0m\u001b[0;34m\u001b[0m\u001b[0;34m\u001b[0m\u001b[0m\n\u001b[0m\u001b[1;32m    760\u001b[0m                 \u001b[0;32mreturn\u001b[0m \u001b[0;32mTrue\u001b[0m\u001b[0;34m\u001b[0m\u001b[0;34m\u001b[0m\u001b[0m\n\u001b[1;32m    761\u001b[0m \u001b[0;34m\u001b[0m\u001b[0m\n",
      "\u001b[0;32m~/opt/anaconda3/lib/python3.7/site-packages/sklearn/externals/joblib/parallel.py\u001b[0m in \u001b[0;36m_dispatch\u001b[0;34m(self, batch)\u001b[0m\n\u001b[1;32m    714\u001b[0m         \u001b[0;32mwith\u001b[0m \u001b[0mself\u001b[0m\u001b[0;34m.\u001b[0m\u001b[0m_lock\u001b[0m\u001b[0;34m:\u001b[0m\u001b[0;34m\u001b[0m\u001b[0;34m\u001b[0m\u001b[0m\n\u001b[1;32m    715\u001b[0m             \u001b[0mjob_idx\u001b[0m \u001b[0;34m=\u001b[0m \u001b[0mlen\u001b[0m\u001b[0;34m(\u001b[0m\u001b[0mself\u001b[0m\u001b[0;34m.\u001b[0m\u001b[0m_jobs\u001b[0m\u001b[0;34m)\u001b[0m\u001b[0;34m\u001b[0m\u001b[0;34m\u001b[0m\u001b[0m\n\u001b[0;32m--> 716\u001b[0;31m             \u001b[0mjob\u001b[0m \u001b[0;34m=\u001b[0m \u001b[0mself\u001b[0m\u001b[0;34m.\u001b[0m\u001b[0m_backend\u001b[0m\u001b[0;34m.\u001b[0m\u001b[0mapply_async\u001b[0m\u001b[0;34m(\u001b[0m\u001b[0mbatch\u001b[0m\u001b[0;34m,\u001b[0m \u001b[0mcallback\u001b[0m\u001b[0;34m=\u001b[0m\u001b[0mcb\u001b[0m\u001b[0;34m)\u001b[0m\u001b[0;34m\u001b[0m\u001b[0;34m\u001b[0m\u001b[0m\n\u001b[0m\u001b[1;32m    717\u001b[0m             \u001b[0;31m# A job can complete so quickly than its callback is\u001b[0m\u001b[0;34m\u001b[0m\u001b[0;34m\u001b[0m\u001b[0;34m\u001b[0m\u001b[0m\n\u001b[1;32m    718\u001b[0m             \u001b[0;31m# called before we get here, causing self._jobs to\u001b[0m\u001b[0;34m\u001b[0m\u001b[0;34m\u001b[0m\u001b[0;34m\u001b[0m\u001b[0m\n",
      "\u001b[0;32m~/opt/anaconda3/lib/python3.7/site-packages/sklearn/externals/joblib/_parallel_backends.py\u001b[0m in \u001b[0;36mapply_async\u001b[0;34m(self, func, callback)\u001b[0m\n\u001b[1;32m    180\u001b[0m     \u001b[0;32mdef\u001b[0m \u001b[0mapply_async\u001b[0m\u001b[0;34m(\u001b[0m\u001b[0mself\u001b[0m\u001b[0;34m,\u001b[0m \u001b[0mfunc\u001b[0m\u001b[0;34m,\u001b[0m \u001b[0mcallback\u001b[0m\u001b[0;34m=\u001b[0m\u001b[0;32mNone\u001b[0m\u001b[0;34m)\u001b[0m\u001b[0;34m:\u001b[0m\u001b[0;34m\u001b[0m\u001b[0;34m\u001b[0m\u001b[0m\n\u001b[1;32m    181\u001b[0m         \u001b[0;34m\"\"\"Schedule a func to be run\"\"\"\u001b[0m\u001b[0;34m\u001b[0m\u001b[0;34m\u001b[0m\u001b[0m\n\u001b[0;32m--> 182\u001b[0;31m         \u001b[0mresult\u001b[0m \u001b[0;34m=\u001b[0m \u001b[0mImmediateResult\u001b[0m\u001b[0;34m(\u001b[0m\u001b[0mfunc\u001b[0m\u001b[0;34m)\u001b[0m\u001b[0;34m\u001b[0m\u001b[0;34m\u001b[0m\u001b[0m\n\u001b[0m\u001b[1;32m    183\u001b[0m         \u001b[0;32mif\u001b[0m \u001b[0mcallback\u001b[0m\u001b[0;34m:\u001b[0m\u001b[0;34m\u001b[0m\u001b[0;34m\u001b[0m\u001b[0m\n\u001b[1;32m    184\u001b[0m             \u001b[0mcallback\u001b[0m\u001b[0;34m(\u001b[0m\u001b[0mresult\u001b[0m\u001b[0;34m)\u001b[0m\u001b[0;34m\u001b[0m\u001b[0;34m\u001b[0m\u001b[0m\n",
      "\u001b[0;32m~/opt/anaconda3/lib/python3.7/site-packages/sklearn/externals/joblib/_parallel_backends.py\u001b[0m in \u001b[0;36m__init__\u001b[0;34m(self, batch)\u001b[0m\n\u001b[1;32m    547\u001b[0m         \u001b[0;31m# Don't delay the application, to avoid keeping the input\u001b[0m\u001b[0;34m\u001b[0m\u001b[0;34m\u001b[0m\u001b[0;34m\u001b[0m\u001b[0m\n\u001b[1;32m    548\u001b[0m         \u001b[0;31m# arguments in memory\u001b[0m\u001b[0;34m\u001b[0m\u001b[0;34m\u001b[0m\u001b[0;34m\u001b[0m\u001b[0m\n\u001b[0;32m--> 549\u001b[0;31m         \u001b[0mself\u001b[0m\u001b[0;34m.\u001b[0m\u001b[0mresults\u001b[0m \u001b[0;34m=\u001b[0m \u001b[0mbatch\u001b[0m\u001b[0;34m(\u001b[0m\u001b[0;34m)\u001b[0m\u001b[0;34m\u001b[0m\u001b[0;34m\u001b[0m\u001b[0m\n\u001b[0m\u001b[1;32m    550\u001b[0m \u001b[0;34m\u001b[0m\u001b[0m\n\u001b[1;32m    551\u001b[0m     \u001b[0;32mdef\u001b[0m \u001b[0mget\u001b[0m\u001b[0;34m(\u001b[0m\u001b[0mself\u001b[0m\u001b[0;34m)\u001b[0m\u001b[0;34m:\u001b[0m\u001b[0;34m\u001b[0m\u001b[0;34m\u001b[0m\u001b[0m\n",
      "\u001b[0;32m~/opt/anaconda3/lib/python3.7/site-packages/sklearn/externals/joblib/parallel.py\u001b[0m in \u001b[0;36m__call__\u001b[0;34m(self)\u001b[0m\n\u001b[1;32m    223\u001b[0m         \u001b[0;32mwith\u001b[0m \u001b[0mparallel_backend\u001b[0m\u001b[0;34m(\u001b[0m\u001b[0mself\u001b[0m\u001b[0;34m.\u001b[0m\u001b[0m_backend\u001b[0m\u001b[0;34m,\u001b[0m \u001b[0mn_jobs\u001b[0m\u001b[0;34m=\u001b[0m\u001b[0mself\u001b[0m\u001b[0;34m.\u001b[0m\u001b[0m_n_jobs\u001b[0m\u001b[0;34m)\u001b[0m\u001b[0;34m:\u001b[0m\u001b[0;34m\u001b[0m\u001b[0;34m\u001b[0m\u001b[0m\n\u001b[1;32m    224\u001b[0m             return [func(*args, **kwargs)\n\u001b[0;32m--> 225\u001b[0;31m                     for func, args, kwargs in self.items]\n\u001b[0m\u001b[1;32m    226\u001b[0m \u001b[0;34m\u001b[0m\u001b[0m\n\u001b[1;32m    227\u001b[0m     \u001b[0;32mdef\u001b[0m \u001b[0m__len__\u001b[0m\u001b[0;34m(\u001b[0m\u001b[0mself\u001b[0m\u001b[0;34m)\u001b[0m\u001b[0;34m:\u001b[0m\u001b[0;34m\u001b[0m\u001b[0;34m\u001b[0m\u001b[0m\n",
      "\u001b[0;32m~/opt/anaconda3/lib/python3.7/site-packages/sklearn/externals/joblib/parallel.py\u001b[0m in \u001b[0;36m<listcomp>\u001b[0;34m(.0)\u001b[0m\n\u001b[1;32m    223\u001b[0m         \u001b[0;32mwith\u001b[0m \u001b[0mparallel_backend\u001b[0m\u001b[0;34m(\u001b[0m\u001b[0mself\u001b[0m\u001b[0;34m.\u001b[0m\u001b[0m_backend\u001b[0m\u001b[0;34m,\u001b[0m \u001b[0mn_jobs\u001b[0m\u001b[0;34m=\u001b[0m\u001b[0mself\u001b[0m\u001b[0;34m.\u001b[0m\u001b[0m_n_jobs\u001b[0m\u001b[0;34m)\u001b[0m\u001b[0;34m:\u001b[0m\u001b[0;34m\u001b[0m\u001b[0;34m\u001b[0m\u001b[0m\n\u001b[1;32m    224\u001b[0m             return [func(*args, **kwargs)\n\u001b[0;32m--> 225\u001b[0;31m                     for func, args, kwargs in self.items]\n\u001b[0m\u001b[1;32m    226\u001b[0m \u001b[0;34m\u001b[0m\u001b[0m\n\u001b[1;32m    227\u001b[0m     \u001b[0;32mdef\u001b[0m \u001b[0m__len__\u001b[0m\u001b[0;34m(\u001b[0m\u001b[0mself\u001b[0m\u001b[0;34m)\u001b[0m\u001b[0;34m:\u001b[0m\u001b[0;34m\u001b[0m\u001b[0;34m\u001b[0m\u001b[0m\n",
      "\u001b[0;32m~/opt/anaconda3/lib/python3.7/site-packages/sklearn/model_selection/_validation.py\u001b[0m in \u001b[0;36m_fit_and_score\u001b[0;34m(estimator, X, y, scorer, train, test, verbose, parameters, fit_params, return_train_score, return_parameters, return_n_test_samples, return_times, return_estimator, error_score)\u001b[0m\n\u001b[1;32m    528\u001b[0m             \u001b[0mestimator\u001b[0m\u001b[0;34m.\u001b[0m\u001b[0mfit\u001b[0m\u001b[0;34m(\u001b[0m\u001b[0mX_train\u001b[0m\u001b[0;34m,\u001b[0m \u001b[0;34m**\u001b[0m\u001b[0mfit_params\u001b[0m\u001b[0;34m)\u001b[0m\u001b[0;34m\u001b[0m\u001b[0;34m\u001b[0m\u001b[0m\n\u001b[1;32m    529\u001b[0m         \u001b[0;32melse\u001b[0m\u001b[0;34m:\u001b[0m\u001b[0;34m\u001b[0m\u001b[0;34m\u001b[0m\u001b[0m\n\u001b[0;32m--> 530\u001b[0;31m             \u001b[0mestimator\u001b[0m\u001b[0;34m.\u001b[0m\u001b[0mfit\u001b[0m\u001b[0;34m(\u001b[0m\u001b[0mX_train\u001b[0m\u001b[0;34m,\u001b[0m \u001b[0my_train\u001b[0m\u001b[0;34m,\u001b[0m \u001b[0;34m**\u001b[0m\u001b[0mfit_params\u001b[0m\u001b[0;34m)\u001b[0m\u001b[0;34m\u001b[0m\u001b[0;34m\u001b[0m\u001b[0m\n\u001b[0m\u001b[1;32m    531\u001b[0m \u001b[0;34m\u001b[0m\u001b[0m\n\u001b[1;32m    532\u001b[0m     \u001b[0;32mexcept\u001b[0m \u001b[0mException\u001b[0m \u001b[0;32mas\u001b[0m \u001b[0me\u001b[0m\u001b[0;34m:\u001b[0m\u001b[0;34m\u001b[0m\u001b[0;34m\u001b[0m\u001b[0m\n",
      "\u001b[0;32m~/opt/anaconda3/lib/python3.7/site-packages/sklearn/tree/tree.py\u001b[0m in \u001b[0;36mfit\u001b[0;34m(self, X, y, sample_weight, check_input, X_idx_sorted)\u001b[0m\n\u001b[1;32m    799\u001b[0m             \u001b[0msample_weight\u001b[0m\u001b[0;34m=\u001b[0m\u001b[0msample_weight\u001b[0m\u001b[0;34m,\u001b[0m\u001b[0;34m\u001b[0m\u001b[0;34m\u001b[0m\u001b[0m\n\u001b[1;32m    800\u001b[0m             \u001b[0mcheck_input\u001b[0m\u001b[0;34m=\u001b[0m\u001b[0mcheck_input\u001b[0m\u001b[0;34m,\u001b[0m\u001b[0;34m\u001b[0m\u001b[0;34m\u001b[0m\u001b[0m\n\u001b[0;32m--> 801\u001b[0;31m             X_idx_sorted=X_idx_sorted)\n\u001b[0m\u001b[1;32m    802\u001b[0m         \u001b[0;32mreturn\u001b[0m \u001b[0mself\u001b[0m\u001b[0;34m\u001b[0m\u001b[0;34m\u001b[0m\u001b[0m\n\u001b[1;32m    803\u001b[0m \u001b[0;34m\u001b[0m\u001b[0m\n",
      "\u001b[0;32m~/opt/anaconda3/lib/python3.7/site-packages/sklearn/tree/tree.py\u001b[0m in \u001b[0;36mfit\u001b[0;34m(self, X, y, sample_weight, check_input, X_idx_sorted)\u001b[0m\n\u001b[1;32m    364\u001b[0m                                            min_impurity_split)\n\u001b[1;32m    365\u001b[0m \u001b[0;34m\u001b[0m\u001b[0m\n\u001b[0;32m--> 366\u001b[0;31m         \u001b[0mbuilder\u001b[0m\u001b[0;34m.\u001b[0m\u001b[0mbuild\u001b[0m\u001b[0;34m(\u001b[0m\u001b[0mself\u001b[0m\u001b[0;34m.\u001b[0m\u001b[0mtree_\u001b[0m\u001b[0;34m,\u001b[0m \u001b[0mX\u001b[0m\u001b[0;34m,\u001b[0m \u001b[0my\u001b[0m\u001b[0;34m,\u001b[0m \u001b[0msample_weight\u001b[0m\u001b[0;34m,\u001b[0m \u001b[0mX_idx_sorted\u001b[0m\u001b[0;34m)\u001b[0m\u001b[0;34m\u001b[0m\u001b[0;34m\u001b[0m\u001b[0m\n\u001b[0m\u001b[1;32m    367\u001b[0m \u001b[0;34m\u001b[0m\u001b[0m\n\u001b[1;32m    368\u001b[0m         \u001b[0;32mif\u001b[0m \u001b[0mself\u001b[0m\u001b[0;34m.\u001b[0m\u001b[0mn_outputs_\u001b[0m \u001b[0;34m==\u001b[0m \u001b[0;36m1\u001b[0m\u001b[0;34m:\u001b[0m\u001b[0;34m\u001b[0m\u001b[0;34m\u001b[0m\u001b[0m\n",
      "\u001b[0;31mKeyboardInterrupt\u001b[0m: "
     ]
    }
   ],
   "source": [
    "grid_valuesArbre = {'criterion': ['gini', 'entropy'],'min_samples_split':[2,5,8,10],'max_features':['sqrt','log2',None]}\n",
    "pprint(grid_valuesArbre)\n",
    "#Apprentissage\n",
    "grid_Arbre = GridSearchCV(DecisionTreeClassifier(), param_grid = grid_valuesArbre,scoring = 'accuracy',cv=KFold(n_splits=5,shuffle=True), verbose=1)\n",
    "grid_Arbre.fit(X_train2, Y_train2)\n",
    "\n",
    "#grid_Arbre.cv_results_\n",
    "#sorted(grid_Arbre.cv_results_.keys())\n",
    "pprint(grid_Arbre.best_params_)\n",
    "\n",
    "#Predictions\n",
    "grid_predictions_Arbre = grid_Arbre.predict(X_test2)"
   ]
  },
  {
   "cell_type": "code",
   "execution_count": 76,
   "metadata": {},
   "outputs": [
    {
     "name": "stdout",
     "output_type": "stream",
     "text": [
      "0.8039296178241412\n"
     ]
    }
   ],
   "source": [
    "print(grid_Arbre.score(X_test2,Y_test2))"
   ]
  },
  {
   "cell_type": "markdown",
   "metadata": {},
   "source": [
    "## Random forest"
   ]
  },
  {
   "cell_type": "markdown",
   "metadata": {},
   "source": [
    "### Premiere approche"
   ]
  },
  {
   "cell_type": "code",
   "execution_count": 77,
   "metadata": {},
   "outputs": [
    {
     "name": "stdout",
     "output_type": "stream",
     "text": [
      "0.39036020362136736\n"
     ]
    }
   ],
   "source": [
    "random_forest = RandomForestClassifier(n_estimators=200)\n",
    "random_forest.fit(X_train,Y_train)\n",
    "print(random_forest.score(X_test,Y_test))\n",
    "predictionRandomForest = random_forest.predict(X_test)"
   ]
  },
  {
   "cell_type": "markdown",
   "metadata": {},
   "source": [
    "### Deuxieme approche"
   ]
  },
  {
   "cell_type": "code",
   "execution_count": 70,
   "metadata": {},
   "outputs": [
    {
     "name": "stdout",
     "output_type": "stream",
     "text": [
      "0.9174063632702376\n"
     ]
    }
   ],
   "source": [
    "#paramètres trouvés grâce au grid search\n",
    "random_forest2 = RandomForestClassifier(bootstrap= False,\n",
    " max_depth= 40,\n",
    " max_features= 'auto',\n",
    " min_samples_leaf= 1,\n",
    " min_samples_split= 2,\n",
    " n_estimators= 140)\n",
    "random_forest2.fit(X_train2,Y_train2)\n",
    "print(random_forest2.score(X_test2,Y_test2))\n",
    "predictionRandomForest2 = random_forest2.predict(X_test2)"
   ]
  },
  {
   "cell_type": "markdown",
   "metadata": {},
   "source": [
    "Meilleure précision "
   ]
  },
  {
   "cell_type": "code",
   "execution_count": 71,
   "metadata": {},
   "outputs": [
    {
     "name": "stdout",
     "output_type": "stream",
     "text": [
      "                precision    recall  f1-score   support\n",
      "\n",
      "     0 Nothing       0.82      0.92      0.87     32519\n",
      "     1 Sitting       1.00      0.99      0.99      8472\n",
      "      2 Stairs       0.89      0.70      0.79      6075\n",
      "3 Table soccer       0.93      0.88      0.90      4368\n",
      "     4 Cycling       0.98      0.99      0.98      6439\n",
      " 5 Driving Car       0.97      0.98      0.97     12775\n",
      "       6 Lunch       0.96      0.93      0.95     27054\n",
      "     7 Walking       0.85      0.73      0.78      9440\n",
      "     8 Working       0.98      0.96      0.97     17008\n",
      "\n",
      "     micro avg       0.92      0.92      0.92    124150\n",
      "     macro avg       0.93      0.90      0.91    124150\n",
      "  weighted avg       0.92      0.92      0.92    124150\n",
      "\n"
     ]
    }
   ],
   "source": [
    "target_name = ['0 Nothing','1 Sitting','2 Stairs','3 Table soccer','4 Cycling','5 Driving Car','6 Lunch','7 Walking','8 Working']\n",
    "print(classification_report(Y_test2, predictionRandomForest2,target_names=target_name))"
   ]
  },
  {
   "cell_type": "code",
   "execution_count": 72,
   "metadata": {},
   "outputs": [
    {
     "name": "stdout",
     "output_type": "stream",
     "text": [
      "[[29982    29   383   189    84   272   531   925   124]\n",
      " [   67  8364     0     0     0     7    26     0     8]\n",
      " [ 1666     0  4253     5    29     1     4   116     1]\n",
      " [  435     0     0  3827    20     0    74     6     6]\n",
      " [   55     0    26     6  6347     0     2     3     0]\n",
      " [  121     1     0     0     0 12525    80     6    42]\n",
      " [ 1374     2     6    72     8    50 25295   180    67]\n",
      " [ 2384     0    88     2     6    10    47  6898     5]\n",
      " [  269     2     0    17     4    98   193    20 16405]]\n"
     ]
    }
   ],
   "source": [
    "cm = confusion_matrix(Y_test2,predictionRandomForest2)\n",
    "print(cm)"
   ]
  },
  {
   "cell_type": "code",
   "execution_count": 73,
   "metadata": {
    "scrolled": false
   },
   "outputs": [
    {
     "data": {
      "image/png": "[encoded data removed]",
      "text/plain": [
       "<Figure size 864x576 with 2 Axes>"
      ]
     },
     "metadata": {},
     "output_type": "display_data"
    }
   ],
   "source": [
    "fig = plt.figure(figsize=(12, 8))\n",
    "ax = plt.subplot()\n",
    "sn.heatmap(cm,ax=ax, annot=True)\n",
    "ax.set_xlabel(\"Prediction\")\n",
    "ax.set_ylabel(\"True activity\")\n",
    "ax.set_title(\"Confusion matrice\")\n",
    "ax.xaxis.set_ticklabels(['0 Nothing','1 Sitting','2 Stairs','3 Table soccer','4 Cycling','5 Driving Car','6 Lunch','7 Walking','8 Working'],rotation='vertical');\n",
    "ax.yaxis.set_ticklabels(['0 Nothing','1 Sitting','2 Stairs','3 Table soccer','4 Cycling','5 Driving Car','6 Lunch','7 Walking','8 Working'],rotation='horizontal');"
   ]
  },
  {
   "cell_type": "code",
   "execution_count": 561,
   "metadata": {
    "scrolled": false
   },
   "outputs": [
    {
     "name": "stdout",
     "output_type": "stream",
     "text": [
      "Variable: ACC_wrist_1          Importance: 0.18\n",
      "Variable: ACC_chest_2          Importance: 0.17\n",
      "Variable: ACC_chest_0          Importance: 0.12\n",
      "Variable: ACC_wrist_2          Importance: 0.11\n",
      "Variable: ACC_chest_1          Importance: 0.09\n",
      "Variable: ACC_wrist_0          Importance: 0.09\n",
      "Variable: Height               Importance: 0.06\n",
      "Variable: Age                  Importance: 0.05\n",
      "Variable: Sport                Importance: 0.03\n",
      "Variable: Resp                 Importance: 0.03\n",
      "Variable: Gender               Importance: 0.02\n",
      "Variable: Skin                 Importance: 0.02\n",
      "Variable: BVP                  Importance: 0.02\n",
      "Variable: ECG                  Importance: 0.02\n"
     ]
    },
    {
     "data": {
      "image/png": "[encoded data removed]",
      "text/plain": [
       "<Figure size 432x288 with 1 Axes>"
      ]
     },
     "metadata": {},
     "output_type": "display_data"
    }
   ],
   "source": [
    "featureImportances(random_forest2,X_train2)"
   ]
  },
  {
   "cell_type": "markdown",
   "metadata": {},
   "source": [
    "### Grid search "
   ]
  },
  {
   "cell_type": "code",
   "execution_count": 82,
   "metadata": {},
   "outputs": [
    {
     "name": "stdout",
     "output_type": "stream",
     "text": [
      "{'bootstrap': [True, False],\n",
      " 'max_depth': [10, 20, 30, 40, 50, 60, 70, 80, 90, 100, 110, None],\n",
      " 'max_features': ['auto', 'sqrt'],\n",
      " 'min_samples_leaf': [1, 2, 4],\n",
      " 'min_samples_split': [2, 5, 10],\n",
      " 'n_estimators': [20, 40, 60, 80, 100, 120, 140, 160, 180, 200]}\n"
     ]
    }
   ],
   "source": [
    "# Parametres qu'on veut tester\n",
    "# Nombre d'arbres de la foret\n",
    "n_estimators = [int(x) for x in np.linspace(start = 20, stop = 200, num = 10)]\n",
    "# Nombre de de colonnes a considerer pour chaque split\n",
    "max_features = ['auto', 'sqrt']\n",
    "# Profondeur de chaque arbre\n",
    "max_depth = [int(x) for x in np.linspace(10, 110, num = 11)]\n",
    "max_depth.append(None)\n",
    "# Nombre minimum d'individus dans un noeud pour faire un split\n",
    "min_samples_split = [2, 5, 10]\n",
    "# Nombre minimum d'individus requis a chaque feuille\n",
    "min_samples_leaf = [1, 2, 4]\n",
    "# Application de la methode bootstrap\n",
    "bootstrap = [True, False]\n",
    "grid_valuesRF = {'n_estimators':n_estimators ,\n",
    "               'max_features': max_features,\n",
    "               'max_depth': max_depth,\n",
    "               'min_samples_split': min_samples_split,\n",
    "               'min_samples_leaf': min_samples_leaf,\n",
    "               'bootstrap': bootstrap}\n",
    "pprint(grid_valuesRF)"
   ]
  },
  {
   "cell_type": "code",
   "execution_count": 83,
   "metadata": {
    "scrolled": true
   },
   "outputs": [
    {
     "name": "stdout",
     "output_type": "stream",
     "text": [
      "Fitting 4 folds for each of 100 candidates, totalling 400 fits\n"
     ]
    },
    {
     "name": "stderr",
     "output_type": "stream",
     "text": [
      "[Parallel(n_jobs=-1)]: Using backend LokyBackend with 4 concurrent workers.\n",
      "[Parallel(n_jobs=-1)]: Done  33 tasks      | elapsed: 42.3min\n",
      "[Parallel(n_jobs=-1)]: Done 154 tasks      | elapsed: 182.1min\n",
      "[Parallel(n_jobs=-1)]: Done 357 tasks      | elapsed: 389.9min\n",
      "[Parallel(n_jobs=-1)]: Done 400 out of 400 | elapsed: 427.3min finished\n"
     ]
    },
    {
     "name": "stdout",
     "output_type": "stream",
     "text": [
      "{'bootstrap': False,\n",
      " 'max_depth': 40,\n",
      " 'max_features': 'auto',\n",
      " 'min_samples_leaf': 1,\n",
      " 'min_samples_split': 2,\n",
      " 'n_estimators': 140}\n"
     ]
    },
    {
     "data": {
      "text/plain": [
       "0.8764609291992659"
      ]
     },
     "execution_count": 83,
     "metadata": {},
     "output_type": "execute_result"
    }
   ],
   "source": [
    "grid_RF = RandomizedSearchCV(estimator = RandomForestClassifier(), param_distributions = grid_valuesRF, n_iter = 100,scoring = 'accuracy', cv = KFold(n_splits=4,shuffle=True), verbose=2, random_state=42, n_jobs = -1)\n",
    "grid_RF.fit(X_train2, Y_train2)\n",
    "pprint(grid_RF.best_params_)\n",
    "grid_predictions_RF = grid_RF.predict(X_test2)\n",
    "# Evaluation du modele\n",
    "grid_RF_acc = accuracy_score(Y_test2, grid_predictions_RF, normalize=True, sample_weight=None)\n",
    "grid_RF_acc"
   ]
  },
  {
   "cell_type": "markdown",
   "metadata": {},
   "source": [
    "### Enregistrement du model "
   ]
  },
  {
   "cell_type": "code",
   "execution_count": 76,
   "metadata": {},
   "outputs": [],
   "source": [
    "from sklearn.externals import joblib"
   ]
  },
  {
   "cell_type": "code",
   "execution_count": 77,
   "metadata": {},
   "outputs": [
    {
     "data": {
      "text/plain": [
       "['random_forest2.sav']"
      ]
     },
     "execution_count": 77,
     "metadata": {},
     "output_type": "execute_result"
    }
   ],
   "source": [
    "joblib.dump(random_forest2,\"random_forest2.sav\")"
   ]
  },
  {
   "cell_type": "code",
   "execution_count": 85,
   "metadata": {},
   "outputs": [
    {
     "data": {
      "text/plain": [
       "['grid_RF.sav']"
      ]
     },
     "execution_count": 85,
     "metadata": {},
     "output_type": "execute_result"
    }
   ],
   "source": [
    "joblib.dump(random_forest2,\"grid_RF.sav\")"
   ]
  },
  {
   "cell_type": "markdown",
   "metadata": {},
   "source": [
    "### Load model"
   ]
  },
  {
   "cell_type": "code",
   "execution_count": 86,
   "metadata": {},
   "outputs": [],
   "source": [
    "#load_model = joblib.load(\"random_forest2.sav\")\n",
    "load_model = joblib.load(\"random_forest2.sav\")"
   ]
  },
  {
   "cell_type": "code",
   "execution_count": 87,
   "metadata": {},
   "outputs": [],
   "source": [
    "PredLoad = load_model.predict(X2)"
   ]
  },
  {
   "cell_type": "code",
   "execution_count": 88,
   "metadata": {},
   "outputs": [
    {
     "data": {
      "text/plain": [
       "0.8714382304645997"
      ]
     },
     "execution_count": 88,
     "metadata": {},
     "output_type": "execute_result"
    }
   ],
   "source": [
    "load_model.score(X_test2,Y_test2)"
   ]
  },
  {
   "cell_type": "markdown",
   "metadata": {},
   "source": [
    "## Gradient boosting "
   ]
  },
  {
   "cell_type": "markdown",
   "metadata": {},
   "source": [
    "### Premiere approche"
   ]
  },
  {
   "cell_type": "code",
   "execution_count": 444,
   "metadata": {},
   "outputs": [
    {
     "name": "stdout",
     "output_type": "stream",
     "text": [
      "0.5651679496151155\n"
     ]
    }
   ],
   "source": [
    "grad_clf = ensemble.GradientBoostingClassifier()\n",
    "grad_clf.fit(X_train,Y_train)\n",
    "print(grad_clf.score(X_test,Y_test))\n",
    "predictionGradientB = grad_clf.predict(X_test)"
   ]
  },
  {
   "cell_type": "markdown",
   "metadata": {},
   "source": [
    "### Deuxieme approche"
   ]
  },
  {
   "cell_type": "code",
   "execution_count": 445,
   "metadata": {
    "scrolled": true
   },
   "outputs": [
    {
     "name": "stdout",
     "output_type": "stream",
     "text": [
      "0.843482444534351\n"
     ]
    }
   ],
   "source": [
    "grad_clf2 = ensemble.GradientBoostingClassifier()\n",
    "grad_clf2.fit(X_train2,Y_train2)\n",
    "print(grad_clf2.score(X_test2,Y_test2))\n",
    "predictionGradientB2 = grad_clf2.predict(X_test2)"
   ]
  },
  {
   "cell_type": "code",
   "execution_count": 396,
   "metadata": {},
   "outputs": [
    {
     "name": "stdout",
     "output_type": "stream",
     "text": [
      "[0 6 6 8 0 6 6 6 6 6]\n"
     ]
    }
   ],
   "source": [
    "print(prediction[0:10])"
   ]
  },
  {
   "cell_type": "code",
   "execution_count": 199,
   "metadata": {
    "scrolled": true
   },
   "outputs": [
    {
     "data": {
      "text/plain": [
       "28289    0\n",
       "16426    6\n",
       "11810    6\n",
       "48550    8\n",
       "6911     0\n",
       "20125    6\n",
       "24445    0\n",
       "52307    6\n",
       "11008    6\n",
       "19936    6\n",
       "Name: Activity, dtype: int64"
      ]
     },
     "execution_count": 199,
     "metadata": {},
     "output_type": "execute_result"
    }
   ],
   "source": [
    "Y_test[0:10]"
   ]
  },
  {
   "cell_type": "code",
   "execution_count": 456,
   "metadata": {
    "scrolled": true
   },
   "outputs": [
    {
     "name": "stdout",
     "output_type": "stream",
     "text": [
      "[[ 6970    11     4     0    77  1236    53   209]\n",
      " [    8  3687   126    66    13   525  1567    29]\n",
      " [    6    63  3293   197    12   700    41    34]\n",
      " [    2    50    81  6059     1   196     8     7]\n",
      " [   63     0    31     4 11480   650    14   530]\n",
      " [  303   254   549   124   275 23519   915   769]\n",
      " [   24   727    80    24    84   742  7682   136]\n",
      " [  234    47    55    16   561  1680   101 14449]]\n"
     ]
    }
   ],
   "source": [
    "cm = confusion_matrix(Y_test2,predictionGradientB2)\n",
    "print(cm)"
   ]
  },
  {
   "cell_type": "code",
   "execution_count": 461,
   "metadata": {
    "scrolled": true
   },
   "outputs": [
    {
     "data": {
      "text/plain": [
       "<matplotlib.axes._subplots.AxesSubplot at 0x20335c990>"
      ]
     },
     "execution_count": 461,
     "metadata": {},
     "output_type": "execute_result"
    },
    {
     "data": {
      "image/png": "[encoded data removed]",
      "text/plain": [
       "<Figure size 864x432 with 2 Axes>"
      ]
     },
     "metadata": {},
     "output_type": "display_data"
    }
   ],
   "source": [
    "plt.figure(figsize=(12, 6))\n",
    "sn.heatmap(cm, annot=True)"
   ]
  },
  {
   "cell_type": "code",
   "execution_count": 75,
   "metadata": {
    "scrolled": false
   },
   "outputs": [
    {
     "data": {
      "text/plain": [
       "{'Gender_m': 0,\n",
       " 'Gender_f': 1,\n",
       " 'Age': 21,\n",
       " 'Height': 180.0,\n",
       " 'Skin': 3,\n",
       " 'Sport': 4,\n",
       " 'ACC_chest_0': 1.035176,\n",
       " 'ACC_chest_1': -0.005739,\n",
       " 'ACC_chest_2': -0.218289,\n",
       " 'ACC_wrist_0': -0.193359,\n",
       " 'ACC_wrist_1': -0.910156,\n",
       " 'ACC_wrist_2': 0.21875,\n",
       " 'BVP': 12.024375,\n",
       " 'ECG': 0.085356,\n",
       " 'Resp': -8.468131,\n",
       " 'Label': 130.437595}"
      ]
     },
     "execution_count": 75,
     "metadata": {},
     "output_type": "execute_result"
    }
   ],
   "source": [
    "{\"Gender_m\":0,\n",
    " \"Gender_f\":1,\n",
    " \"Age\":21,\n",
    " \"Height\":180.0,\n",
    " \"Skin\":3,\n",
    " \"Sport\":4,\n",
    " \"ACC_chest_0\":1.035176,\n",
    " \"ACC_chest_1\":-0.005739,\n",
    " \"ACC_chest_2\":-0.218289,\n",
    " \"ACC_wrist_0\":-0.193359,\n",
    " \"ACC_wrist_1\":-0.910156,\n",
    " \"ACC_wrist_2\":0.218750,\n",
    " \"BVP\":12.024375,\n",
    " \"ECG\":0.085356,\n",
    " \"Resp\":-8.468131,\n",
    " \"Label\":130.437595\n",
    "}"
   ]
  },
  {
   "cell_type": "code",
   "execution_count": 79,
   "metadata": {},
   "outputs": [
    {
     "data": {
      "text/plain": [
       "Index(['Gender_m', 'Gender_f', 'Age', 'Height', 'Skin', 'Sport', 'ACC_chest_0',\n",
       "       'ACC_chest_1', 'ACC_chest_2', 'ACC_wrist_0', 'ACC_wrist_1',\n",
       "       'ACC_wrist_2', 'BVP', 'ECG', 'Resp', 'Labels'],\n",
       "      dtype='object')"
      ]
     },
     "execution_count": 79,
     "metadata": {},
     "output_type": "execute_result"
    }
   ],
   "source": [
    "X_train2.columns"
   ]
  },
  {
   "cell_type": "code",
   "execution_count": 80,
   "metadata": {},
   "outputs": [
    {
     "data": {
      "text/plain": [
       "18560     6\n",
       "64224     8\n",
       "82363     5\n",
       "61903     7\n",
       "406129    0\n",
       "         ..\n",
       "454128    6\n",
       "384299    6\n",
       "165258    6\n",
       "451575    6\n",
       "486506    6\n",
       "Name: Activ, Length: 372450, dtype: int64"
      ]
     },
     "execution_count": 80,
     "metadata": {},
     "output_type": "execute_result"
    }
   ],
   "source": [
    "Y_train2"
   ]
  }
 ],
 "metadata": {
  "kernelspec": {
   "display_name": "Python 3",
   "language": "python",
   "name": "python3"
  },
  "language_info": {
   "codemirror_mode": {
    "name": "ipython",
    "version": 3
   },
   "file_extension": ".py",
   "mimetype": "text/x-python",
   "name": "python",
   "nbconvert_exporter": "python",
   "pygments_lexer": "ipython3",
   "version": "3.7.4"
  }
 },
 "nbformat": 4,
 "nbformat_minor": 2
}
